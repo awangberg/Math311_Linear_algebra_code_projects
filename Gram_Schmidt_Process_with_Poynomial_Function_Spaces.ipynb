{
  "nbformat": 4,
  "nbformat_minor": 0,
  "metadata": {
    "colab": {
      "name": "Gram-Schmidt Process with Poynomial Function Spaces.ipynb",
      "provenance": [],
      "authorship_tag": "ABX9TyOkuUeS/Aywz4ps7IW2AFID",
      "include_colab_link": true
    },
    "kernelspec": {
      "name": "python3",
      "display_name": "Python 3"
    },
    "language_info": {
      "name": "python"
    }
  },
  "cells": [
    {
      "cell_type": "markdown",
      "metadata": {
        "id": "view-in-github",
        "colab_type": "text"
      },
      "source": [
        "<a href=\"https://colab.research.google.com/github/awangberg/Math242_Linear_algebra_code_projects/blob/master/Gram_Schmidt_Process_with_Poynomial_Function_Spaces.ipynb\" target=\"_parent\"><img src=\"https://colab.research.google.com/assets/colab-badge.svg\" alt=\"Open In Colab\"/></a>"
      ]
    },
    {
      "cell_type": "markdown",
      "source": [
        "Related Youtube Video on a talking piano by Mark Rober - watch before completing the activity:  https://www.youtube.com/watch?v=uBEL3YVzMwk\n",
        "\n",
        "\n",
        "\n",
        "# Gram-Schmidt Process with Function Spaces\n",
        "\n",
        "1. Project 1: Polynomial spaces\n",
        "  1. Choose a \"random\" basis for polynomials of degree 4 or less on the interval $$ -2 \\le t \\le 2 $$\n",
        "  2. Create the inner product (dot product) and norm (magnitude) functions\n",
        "  3. Go through the Gram-Schmidt process to turn the random basis into a nice orthonormal basis\n",
        "  4. Write some different functions in the orthonormal basis.\n",
        "\n",
        "\n",
        "2. Project 2: Homework for this project:\n",
        "  1. Choose a \"random\" basis for periodic functions on the interval $$ -\\pi \\le t \\le \\pi $$\n",
        "  2. Create the inner product (dot product) and norm (magnitude) functions\n",
        "  3. Do the Gram-Schmidt process to turn the random basis into a nice orthonormal basis\n",
        "  4. Write some different functiosn in the orthonormal basis."
      ],
      "metadata": {
        "id": "7cIMTgEm8cgt"
      }
    },
    {
      "cell_type": "code",
      "execution_count": 15,
      "metadata": {
        "id": "tWo4yv9o8YGx"
      },
      "outputs": [],
      "source": [
        "#  Libraries that we'll need:\n",
        "import numpy as np\n",
        "import sympy as sym\n",
        "from sympy.plotting import plot\n",
        "#import matplotlib.pyplot as plt\n",
        "\n",
        "# We'll specify that x and t are variables:\n",
        "x, t = sym.symbols('x, t')"
      ]
    },
    {
      "cell_type": "markdown",
      "source": [
        "## Project 1: Create an Orthonormal Basis for Polynomial Spaces"
      ],
      "metadata": {
        "id": "PRAOELGEhz9V"
      }
    },
    {
      "cell_type": "markdown",
      "source": [
        "### 1. Choose a \"random\" basis for polynomials of degree 4 or less on the interval $$ -2 \\le t \\le 2 $$"
      ],
      "metadata": {
        "id": "b9foyBoY-KJ3"
      }
    },
    {
      "cell_type": "code",
      "source": [
        "# Our \"random\" vectors:\n",
        "# 1,  x,  x**2,  x**3,  x**4\n",
        "r0 = 1\n",
        "r1 = x\n",
        "r2 = x**2\n",
        "r3 = x**3\n",
        "r4 = x**4"
      ],
      "metadata": {
        "id": "JC16q2x7gGmc"
      },
      "execution_count": null,
      "outputs": []
    },
    {
      "cell_type": "markdown",
      "source": [
        "### 2. Create the inner product (dot product) and norm (magnitude) functions"
      ],
      "metadata": {
        "id": "S0j2ZV7IhjPu"
      }
    },
    {
      "cell_type": "markdown",
      "source": [
        "We'll generalize the notion of dot product for function spaces.  We know the dot product of two vectors in $$\\vec{u}, \\vec{v} \\in \\mathbf{R}^n$$\n",
        "is given by\n",
        "\n",
        "$$ \\vec{u} \\cdot \\vec{v} = \\left( \\begin{array}{c}u_1\\\\u_2\\\\u_3\\\\ \\vdots \\\\ u_n\\\\ \\end{array} \\right) \\cdot \\left( \\begin{array}{c} v_1\\\\v_2\\\\v_3\\\\ \\vdots \\\\ v_n\\\\ \\end{array} \\right) = v_1 \\cdot u_1 + v_2 \\cdot u_2 + \\cdots v_n \\cdot u_n $$\n",
        "\n",
        "which can also be expressed as\n",
        "\n",
        "$$ \\vec{u} \\cdot \\vec{v} = trace\\left( \\vec{v}^\\dagger \\vec{u} \\right) $$\n",
        "\n",
        "When working with function spaces, we can think of representing two functions $f$ and $g$ using samples of points $x_1, x_2, x_3, \\cdots x_n$ which are separated by a distance $dx$.  This *discrete* sampling of the functions produces the dot product, or inner product\n",
        "\n",
        "$$ < f | g > = \\left( \\begin{array}{c} f(x_1) \\\\ f(x_2) \\\\ f(x_3) \\\\ \\vdots \\\\ f(x_n)\\\\ \\end{array} \\right) \\cdot \\left( \\begin{array}{c} g(x_1) \\\\ g(x_2) \\\\ g(x_3)\\\\ \\vdots \\\\ g(x_n)\\\\ \\end{array} \\right) \\; dx = g(x_1) \\cdot f(x_1) \\; dx + g(x_2) \\cdot f(x_2)\\;dx + \\cdots + g(x_n) \\cdot f(x_n) \\; dx $$\n",
        "\n",
        "If we include more and more points, we get, in the limit, an inner product that works with the *continuous* functions $f$ and $g$:\n",
        "\n",
        "$$ < f | g > \\approx \\int_{\\textrm Left}^{\\textrm Right} g(x) f(x) \\; dx $$\n",
        "\n",
        "or\n",
        "\n",
        "$$ < f | g > = k \\int_{\\textrm Left}^{\\textrm Right} g(x) f(x) \\; dx $$\n",
        "\n",
        "We'll include a scaling factor $k$ for convenience, so that the inner product of the constant function $f(x) = 1$ with itself will be one.  That is, we'd like\n",
        "\n",
        "$$< 1 | 1 >  = 1$$\n",
        "\n",
        "\n"
      ],
      "metadata": {
        "id": "zSrmfcm3vWvi"
      }
    },
    {
      "cell_type": "markdown",
      "source": [
        "#### Determining the scaling constant for the inner product on $P_4$\n",
        "\n",
        "Find the scaling constant so that the inner product on the constant function $f(x) = 1$ with itself is 1.\n",
        "\n",
        "We are working with polynomials of degree $4$ or less on the interval $-2 \\le x \\le 2$."
      ],
      "metadata": {
        "id": "iSpgCI1-21Th"
      }
    },
    {
      "cell_type": "code",
      "source": [
        "sym.integrate(1*1, (x,-2,2))"
      ],
      "metadata": {
        "id": "cW-TxG33iQ8k",
        "outputId": "7f5c3db1-fd34-4e3e-fd97-8a18358db262",
        "colab": {
          "base_uri": "https://localhost:8080/",
          "height": 37
        }
      },
      "execution_count": null,
      "outputs": [
        {
          "output_type": "execute_result",
          "data": {
            "text/plain": [
              "4"
            ],
            "text/latex": "$\\displaystyle 4$"
          },
          "metadata": {},
          "execution_count": 9
        }
      ]
    },
    {
      "cell_type": "markdown",
      "source": [
        "#### Defining the inner product and norm\n",
        "\n",
        "Using this factor, we'll define our inner product as a function `ip(f,g)` as \n",
        "\n",
        "$$ < \\, f \\, | \\, g \\, > = \\frac{1}{ 4 } \\int_{-2}^{2} g(x) \\, f(x) \\; dx $$\n",
        "\n",
        "The norm, or magnitude, of a vector $f$ will be given by\n",
        "\n",
        "$$ \\left| f \\right| = \\sqrt{ < \\, f \\, | \\, f \\, > }$$\n",
        "\n",
        "We'll use this to define our norm function `n(f)`.  Because of our scaling factor we should have the norm of the constant function $f(x) = 1$ as $1$.\n"
      ],
      "metadata": {
        "id": "AroAi3ae3jDg"
      }
    },
    {
      "cell_type": "code",
      "source": [
        "def ip(a,b):\n",
        "    return (1) * sym.integrate(a*b, (x, -2, 2))\n",
        "\n",
        "def n(a):\n",
        "    return sym.sqrt(ip(a,a))"
      ],
      "metadata": {
        "id": "dSBdSm0V4HNp"
      },
      "execution_count": null,
      "outputs": []
    },
    {
      "cell_type": "markdown",
      "source": [
        "#### Testing the scaling constant on the inner product and norm\n",
        "\n",
        "We'll check that everything works:  \n",
        "\n",
        "  * Is $< 1 | 1 > = 1$\n",
        "\n",
        "  * Is $\\left| 1 \\right| = 1$?"
      ],
      "metadata": {
        "id": "0aVS636T5RxY"
      }
    },
    {
      "cell_type": "code",
      "source": [
        "# check that ip(1,1) = 1 and n(1) = 1:\n",
        "print(\"Testing that <1|1> is 1, and |1| = 1: \")\n",
        "print(\"ip(1,1) = \", ip(1,1))\n",
        "print(\"n(1) = \", n(1))\n"
      ],
      "metadata": {
        "id": "4TolMcRc5a4L",
        "outputId": "38416242-132e-4156-c05a-cfe4799946bd",
        "colab": {
          "base_uri": "https://localhost:8080/"
        }
      },
      "execution_count": null,
      "outputs": [
        {
          "output_type": "stream",
          "name": "stdout",
          "text": [
            "Testing that <1|1> is 1, and |1| = 1: \n",
            "ip(1,1) =  4\n",
            "n(1) =  2\n"
          ]
        }
      ]
    },
    {
      "cell_type": "markdown",
      "source": [
        "### 3. Perform the Gram-Schmidt process to create an orthonormal basis from the random basis.\n",
        "\n",
        "We have the *random* basis\n",
        "\n",
        "$$ r_0 = 1  \\hspace{1cm} r_1 = x \\hspace{1cm} r_2 = x^2 \\hspace{1cm} r_3 = x^3 \\hspace{1cm} r_4 = x^4 $$\n",
        "\n",
        "We'll use code to perform the Gram-Schmidt Orthonormalization Process to generate the nice *orthonormal* basis given by \n",
        "\n",
        "$$ u_0 \\hspace{1cm} u_1 \\hspace{1cm} u_2 \\hspace{1cm} u_3 \\hspace{1cm} u_4 $$\n",
        "\n",
        "This involves four steps:\n",
        "  1.  Select an unprocessed vector $r_i$ from the random basis\n",
        "  2.  Find the vector $T_i$ that is perpendicular to the space spanned by $u_0, u_1, \\cdots, u_{i-1}$.  That is,\n",
        "  $$ T_i = r_i - <\\, r_i \\, | \\, u_1 \\, > \\, u_1 - <\\, r_i \\, | \\, u_2 \\, > \\, u_2 - \\cdots - <\\, r_i \\, | \\, u_{i-1} \\, > \\, u_{i-1}$$\n",
        "  3.  Normalized $T_i$ and set it to $u_i$, if it is non-zero:\n",
        "  $$ u_i = \\frac{1}{\\left| T_i \\right|} T_i \\textrm{ if $T_i \\ne \\vec{0}$ }$$\n",
        "  4.  Test that $u_i$ has norm 1 and is orthogonal to $u_1, u_2, \\cdots, u_{i-1}$:\n",
        "  $$ \\textrm{ Check: } \\left| u_i \\right| = 1 \\textrm{ and } < \\, u_i \\, | \\, u_1 \\, > = 0, \\cdots, < \\, u_i \\, | \\, u_{i-1} \\, > = 0$$\n",
        "\n"
      ],
      "metadata": {
        "id": "kwAIOSA4uZia"
      }
    },
    {
      "cell_type": "markdown",
      "source": [
        "#### Find the first vector $u_0$, and do sanity checks"
      ],
      "metadata": {
        "id": "jfoV9lBIxM5j"
      }
    },
    {
      "cell_type": "code",
      "source": [
        "# Find the orthogonal part to existing u_i's:\n",
        "T0 = r0\n",
        "print(\"T0 = \", T0)"
      ],
      "metadata": {
        "id": "bFKnBt8hAX5f",
        "outputId": "6e3b4b23-7997-416d-afdb-0156a57104b6",
        "colab": {
          "base_uri": "https://localhost:8080/"
        }
      },
      "execution_count": null,
      "outputs": [
        {
          "output_type": "stream",
          "name": "stdout",
          "text": [
            "T0 =  1\n"
          ]
        }
      ]
    },
    {
      "cell_type": "code",
      "source": [
        "# Normalize:\n",
        "print(\"|T0| = \", n(T0))\n",
        "u0 = (1/n(T0))*T0\n",
        "print(\"u0 = \", u0)"
      ],
      "metadata": {
        "id": "ZOzD1BQHAkRS",
        "outputId": "4f3a09b6-64ba-4c6a-dcac-fb3aa0ba4bff",
        "colab": {
          "base_uri": "https://localhost:8080/"
        }
      },
      "execution_count": null,
      "outputs": [
        {
          "output_type": "stream",
          "name": "stdout",
          "text": [
            "|T0| =  2\n",
            "u0 =  1/2\n"
          ]
        }
      ]
    },
    {
      "cell_type": "code",
      "source": [
        "# Check that u0 has size 1 and is orthogonal to prior ui's:\n",
        "print(\"Check:  The size of u0 is \", n(u0))\n",
        "print(\"Check:  The inner product of u0 and ... is \", ip(u0,u0))"
      ],
      "metadata": {
        "id": "wSMMBxY9222T",
        "outputId": "4bf58ebd-3a37-4407-85d7-894156b2f18e",
        "colab": {
          "base_uri": "https://localhost:8080/"
        }
      },
      "execution_count": null,
      "outputs": [
        {
          "output_type": "stream",
          "name": "stdout",
          "text": [
            "Check:  The size of u0 is  1\n",
            "Check:  The inner product of u0 and ... is  1\n"
          ]
        }
      ]
    },
    {
      "cell_type": "markdown",
      "source": [
        "#### Find $u_1$, and do sanity checks"
      ],
      "metadata": {
        "id": "QTG09GL13UgV"
      }
    },
    {
      "cell_type": "code",
      "source": [
        "# Find the orthogonal part to the existing u_i's:\n",
        "T1 = r1 - ip(r1, u0)*u0\n",
        "print(\"T1 = \", T1)"
      ],
      "metadata": {
        "id": "zQlcGPsfBIlW",
        "outputId": "747e0e97-3c2c-4ab9-bb83-c0d13a0d9fa7",
        "colab": {
          "base_uri": "https://localhost:8080/"
        }
      },
      "execution_count": null,
      "outputs": [
        {
          "output_type": "stream",
          "name": "stdout",
          "text": [
            "T1 =  x\n"
          ]
        }
      ]
    },
    {
      "cell_type": "code",
      "source": [
        "#Normalize\n",
        "print(\"|T1| = \", n(T1))\n",
        "u1 = (1/n(T1))*T1\n",
        "print(\"u1 = \", u1)"
      ],
      "metadata": {
        "id": "jWcoF8AjBQgB",
        "outputId": "e058030f-43d4-4fcf-e478-ae4332b57d60",
        "colab": {
          "base_uri": "https://localhost:8080/"
        }
      },
      "execution_count": null,
      "outputs": [
        {
          "output_type": "stream",
          "name": "stdout",
          "text": [
            "|T1| =  4*sqrt(3)/3\n",
            "u1 =  sqrt(3)*x/4\n"
          ]
        }
      ]
    },
    {
      "cell_type": "code",
      "source": [
        "# Check that u1 has size 1 and is orthogonal to prior ui's:\n",
        "print(\"Check:  The size of u1 is: \", n(u1))\n",
        "print(\"Check:  The inner product of u1 and u0 is: \", ip(u1,u0))"
      ],
      "metadata": {
        "id": "Vg2xK2szBv_n",
        "outputId": "3a6f0e1d-0f02-4913-e6e8-e9c19b90d2cf",
        "colab": {
          "base_uri": "https://localhost:8080/"
        }
      },
      "execution_count": null,
      "outputs": [
        {
          "output_type": "stream",
          "name": "stdout",
          "text": [
            "Check:  The size of u1 is:  1\n",
            "Check:  The inner product of u1 and u0 is:  0\n"
          ]
        }
      ]
    },
    {
      "cell_type": "markdown",
      "source": [
        "#### Find u_2, and do sanity checks"
      ],
      "metadata": {
        "id": "Xo-Y3Xk1BlGc"
      }
    },
    {
      "cell_type": "code",
      "source": [
        "# Find the orthogonal part to the existing u_i's:\n"
      ],
      "metadata": {
        "id": "-vIeELQjBkoI"
      },
      "execution_count": null,
      "outputs": []
    },
    {
      "cell_type": "code",
      "source": [
        "# Normalize"
      ],
      "metadata": {
        "id": "RwRn5TN3CAM7"
      },
      "execution_count": null,
      "outputs": []
    },
    {
      "cell_type": "code",
      "source": [
        "# Check that u2 has size 1 and is orthogonal to prior ui's:"
      ],
      "metadata": {
        "id": "rqKkSxLAB-_P"
      },
      "execution_count": null,
      "outputs": []
    },
    {
      "cell_type": "markdown",
      "source": [
        "#### Find u_3, and do sanity checks"
      ],
      "metadata": {
        "id": "K_w70xUyBrDR"
      }
    },
    {
      "cell_type": "code",
      "source": [
        "# Find the orthogonal part to the existing u_i's: "
      ],
      "metadata": {
        "id": "B9tYjlkmCGOw"
      },
      "execution_count": null,
      "outputs": []
    },
    {
      "cell_type": "code",
      "source": [
        "# Normalize"
      ],
      "metadata": {
        "id": "sJGdjNnjCKFp"
      },
      "execution_count": null,
      "outputs": []
    },
    {
      "cell_type": "code",
      "source": [
        "# Check that u3 has size 1 and is orthogonal to prior ui's:"
      ],
      "metadata": {
        "id": "Nve2KVyACLzV"
      },
      "execution_count": null,
      "outputs": []
    },
    {
      "cell_type": "markdown",
      "source": [
        "#### Find u_4, and do sanity checks"
      ],
      "metadata": {
        "id": "v2HfjvqeBsT6"
      }
    },
    {
      "cell_type": "code",
      "source": [
        "# Find the orthogonal part to the existing u_i's: "
      ],
      "metadata": {
        "id": "J45eE_FNCPFi"
      },
      "execution_count": null,
      "outputs": []
    },
    {
      "cell_type": "code",
      "source": [
        "# Normalize"
      ],
      "metadata": {
        "id": "8xb08tjWCiRS"
      },
      "execution_count": null,
      "outputs": []
    },
    {
      "cell_type": "code",
      "source": [
        "# Check that u3 has size 1 and is orthogonal to prior ui's:"
      ],
      "metadata": {
        "id": "MTetgrbLCkP8"
      },
      "execution_count": null,
      "outputs": []
    },
    {
      "cell_type": "markdown",
      "source": [
        "### Express various functions in the orthonormal basis."
      ],
      "metadata": {
        "id": "MTB9HyFquhvg"
      }
    },
    {
      "cell_type": "code",
      "source": [
        "pp = sym.sin(x)\n",
        "plot_original = plot(pp, (x,-2,2), line_color='black', show=False)\n",
        "pp0 = ip(pp,u0)*u0 \n",
        "plot0 = plot(pp0, (x,-2,2), line_color='red', show=False)\n",
        "print(\"0th approximation to \", pp , \" is: \", pp0)\n",
        "plot0.append(pp)\n",
        "plot0.show()\n",
        "\n",
        "#pp1 = ip(pp,u0)*u0 + ip(pp,u1)*u1 \n",
        "#plot1 = plot(pp1, (x,-2,2), line_color='orange', show=False)\n",
        "#print(\"1st approximation to \", pp , \" is: \", pp1)\n",
        "#plot1.append(pp)\n",
        "#plot1.show()\n",
        "\n",
        "#pp2 = ip(pp,u0)*u0 + ip(pp,u1)*u1 + ip(pp,u2)*u2\n",
        "#plot2 = plot(pp2, (x,-2,2), line_color='green', show=False)\n",
        "#print(\"2nd approximation to \", pp , \" is: \", pp2)\n",
        "#plot2.append(pp)\n",
        "#plot2.show()\n",
        "\n",
        "#pp3 = ip(pp,u0)*u0 + ip(pp,u1)*u1 + ip(pp,u2)*u2 + ip(pp,u3)*u3 \n",
        "#plot3 = plot(pp2, (x,-2,2), line_color='blue', show=False)\n",
        "#print(\"3rd approximation to \", pp , \" is: \", pp3)\n",
        "#plot3.append(pp)\n",
        "#plot3.show()\n",
        "\n",
        "#pp4 = ip(pp,u0)*u0 + ip(pp,u1)*u1 + ip(pp,u2)*u2 + ip(pp,u3)*u3 + ip(pp,u4)*u4\n",
        "#plot4 = plot(pp2, (x,-2,2), line_color='purple', show=False)\n",
        "#print(\"4th approximation to \", pp , \" is: \", pp4)\n",
        "#plot4.append(pp)\n",
        "#plot4.show()\n",
        "\n",
        "\n",
        "# plot all of them:\n",
        "#plot(pp, pp0, pp1, pp2, pp3, pp4, (x,-2,2))\n"
      ],
      "metadata": {
        "id": "C_idF8pKIyfO",
        "outputId": "4850dddb-42b6-4000-8332-737b790f1e4e",
        "colab": {
          "base_uri": "https://localhost:8080/",
          "height": 235
        }
      },
      "execution_count": 32,
      "outputs": [
        {
          "output_type": "error",
          "ename": "NameError",
          "evalue": "ignored",
          "traceback": [
            "\u001b[0;31m---------------------------------------------------------------------------\u001b[0m",
            "\u001b[0;31mNameError\u001b[0m                                 Traceback (most recent call last)",
            "\u001b[0;32m<ipython-input-32-bdb2dfe7affd>\u001b[0m in \u001b[0;36m<module>\u001b[0;34m()\u001b[0m\n\u001b[1;32m      1\u001b[0m \u001b[0mpp\u001b[0m \u001b[0;34m=\u001b[0m \u001b[0msym\u001b[0m\u001b[0;34m.\u001b[0m\u001b[0msin\u001b[0m\u001b[0;34m(\u001b[0m\u001b[0mx\u001b[0m\u001b[0;34m)\u001b[0m\u001b[0;34m\u001b[0m\u001b[0;34m\u001b[0m\u001b[0m\n\u001b[1;32m      2\u001b[0m \u001b[0mplot_original\u001b[0m \u001b[0;34m=\u001b[0m \u001b[0mplot\u001b[0m\u001b[0;34m(\u001b[0m\u001b[0mpp\u001b[0m\u001b[0;34m,\u001b[0m \u001b[0;34m(\u001b[0m\u001b[0mx\u001b[0m\u001b[0;34m,\u001b[0m\u001b[0;34m-\u001b[0m\u001b[0;36m2\u001b[0m\u001b[0;34m,\u001b[0m\u001b[0;36m2\u001b[0m\u001b[0;34m)\u001b[0m\u001b[0;34m,\u001b[0m \u001b[0mline_color\u001b[0m\u001b[0;34m=\u001b[0m\u001b[0;34m'black'\u001b[0m\u001b[0;34m,\u001b[0m \u001b[0mshow\u001b[0m\u001b[0;34m=\u001b[0m\u001b[0;32mFalse\u001b[0m\u001b[0;34m)\u001b[0m\u001b[0;34m\u001b[0m\u001b[0;34m\u001b[0m\u001b[0m\n\u001b[0;32m----> 3\u001b[0;31m \u001b[0mpp0\u001b[0m \u001b[0;34m=\u001b[0m \u001b[0mip\u001b[0m\u001b[0;34m(\u001b[0m\u001b[0mpp\u001b[0m\u001b[0;34m,\u001b[0m\u001b[0mu0\u001b[0m\u001b[0;34m)\u001b[0m\u001b[0;34m*\u001b[0m\u001b[0mu0\u001b[0m\u001b[0;34m\u001b[0m\u001b[0;34m\u001b[0m\u001b[0m\n\u001b[0m\u001b[1;32m      4\u001b[0m \u001b[0mplot0\u001b[0m \u001b[0;34m=\u001b[0m \u001b[0mplot\u001b[0m\u001b[0;34m(\u001b[0m\u001b[0mpp\u001b[0m\u001b[0;34m,\u001b[0m \u001b[0;34m(\u001b[0m\u001b[0mx\u001b[0m\u001b[0;34m,\u001b[0m\u001b[0;34m-\u001b[0m\u001b[0;36m2\u001b[0m\u001b[0;34m,\u001b[0m\u001b[0;36m2\u001b[0m\u001b[0;34m)\u001b[0m\u001b[0;34m,\u001b[0m \u001b[0mline_color\u001b[0m\u001b[0;34m=\u001b[0m\u001b[0;34m'red'\u001b[0m\u001b[0;34m,\u001b[0m \u001b[0mshow\u001b[0m\u001b[0;34m=\u001b[0m\u001b[0;32mFalse\u001b[0m\u001b[0;34m)\u001b[0m\u001b[0;34m\u001b[0m\u001b[0;34m\u001b[0m\u001b[0m\n\u001b[1;32m      5\u001b[0m \u001b[0mprint\u001b[0m\u001b[0;34m(\u001b[0m\u001b[0;34m\"0th approximation to \"\u001b[0m\u001b[0;34m,\u001b[0m \u001b[0mpp\u001b[0m \u001b[0;34m,\u001b[0m \u001b[0;34m\" is: \"\u001b[0m\u001b[0;34m,\u001b[0m \u001b[0mpp0\u001b[0m\u001b[0;34m)\u001b[0m\u001b[0;34m\u001b[0m\u001b[0;34m\u001b[0m\u001b[0m\n",
            "\u001b[0;31mNameError\u001b[0m: name 'ip' is not defined"
          ]
        }
      ]
    },
    {
      "cell_type": "code",
      "source": [
        "qq = sym.exp(x)\n",
        "qq0 = ip(qq,u0)*u0 \n",
        "print(\"0th approximation to \", qq , \" is: \", qq0)\n",
        "plot(qq, qq0, (x,-2,2))\n",
        "#qq1 = ip(qq,u0)*u0 + ip(qq,u1)*u1\n",
        "#print(\"1st approximation to \", qq , \" is: \", qq1)\n",
        "#plot(qq, qq1, (x,-2,2))\n",
        "#qq2 = ip(qq,u0)*u0 + ip(qq,u1)*u1 + ip(qq,u2)*u2\n",
        "#print(\"2nd approximation to \", qq , \" is: \", qq2)\n",
        "#plot(qq, qq2, (x,-2,2))\n",
        "#qq3 = ip(qq,u0)*u0 + ip(qq,u1)*u1 + ip(qq,u2)*u2 + ip(qq,u3)*u3 \n",
        "#print(\"3rd approximation to \", qq , \" is: \", qq3)\n",
        "#plot(qq, qq3, (x,-2,2))\n",
        "#qq4 = ip(qq,u0)*u0 + ip(qq,u1)*u1 + ip(qq,u2)*u2 + ip(qq,u3)*u3 + ip(qq,u4)*u4\n",
        "#print(\"4th approximation to \", qq , \" is: \", qq4)\n",
        "#plot(qq, qq4, (x,-2,2))\n",
        "#plot all of them:\n",
        "#plot(qq, qq0, qq1, qq2, qq3, qq4, (x,-2,2))"
      ],
      "metadata": {
        "id": "cKyN3PfFJxTh"
      },
      "execution_count": null,
      "outputs": []
    },
    {
      "cell_type": "code",
      "source": [
        "cc = 3sym.cos(x)\n",
        "cc0 = ip(cc,u0)*u0 \n",
        "print(\"0th approximation to \", cc , \" is: \", cc0)\n",
        "plot(cc, cc0, (x,-2,2)\n",
        "#cc1 = ip(cc,u0)*u0 + ip(cc,u1)*u1\n",
        "#print(\"1st approximation to \", cc , \" is: \", cc1)\n",
        "#plot(cc, cc1, (x,-2,2))\n",
        "#cc2 = ip(cc,u0)*u0 + ip(cc,u1)*u1 + ip(cc,u2)*u2\n",
        "#print(\"2nd approximation to \", cc , \" is: \", cc2)\n",
        "#plot(cc, cc2, (x,-2,2))\n",
        "#cc3 = ip(cc,u0)*u0 + ip(cc,u1)*u1 + ip(cc,u2)*u2 + ip(cc,u3)*u3 \n",
        "#print(\"3rd approximation to \", cc , \" is: \", cc3)\n",
        "#plot(cc, cc3, (x,-2,2))\n",
        "#cc4 = ip(cc,u0)*u0 + ip(cc,u1)*u1 + ip(cc,u2)*u2 + ip(cc,u3)*u3 + ip(cc,u4)*u4\n",
        "#print(\"4th approximation to \", cc , \" is: \", cc4)\n",
        "#plot(cc, cc4, (x,-2,2))\n",
        "#plot all of them:\n",
        "#plot(cc, cc0, cc1, cc2, cc3, cc4, (x,-2,2))\n"
      ],
      "metadata": {
        "id": "A5tq2dmLJ0HT"
      },
      "execution_count": null,
      "outputs": []
    },
    {
      "cell_type": "code",
      "source": [
        "p1 = plot(x, (x, -2, 2), line_color='red', show=False)\n",
        "p2 = plot(x**2, (x, -2, 2), line_color='orange', show=False)\n",
        "p3 = plot(3-x, (x,-2,2), line_color='purple', show=False)\n",
        "p1.append(p3[0])\n",
        "p1.append(p2[0])\n",
        "p1[2].line_color='blue'\n",
        "p1.show()"
      ],
      "metadata": {
        "id": "fxkPNf9WqOXF",
        "outputId": "e7e1d5ab-3e7e-41eb-8577-e1ba59138bfa",
        "colab": {
          "base_uri": "https://localhost:8080/",
          "height": 577
        }
      },
      "execution_count": 43,
      "outputs": [
        {
          "output_type": "display_data",
          "data": {
            "text/plain": [
              "<Figure size 432x288 with 1 Axes>"
            ],
            "image/png": "[encoded data removed]"
          },
          "metadata": {
            "needs_background": "light"
          }
        },
        {
          "output_type": "display_data",
          "data": {
            "text/plain": [
              "<Figure size 432x288 with 1 Axes>"
            ],
            "image/png": "[encoded data removed]"
          },
          "metadata": {
            "needs_background": "light"
          }
        }
      ]
    },
    {
      "cell_type": "code",
      "source": [
        "}  ppp = plot(x,x**2, x**3, (x,-2,2))\n",
        "ppp"
      ],
      "metadata": {
        "id": "aw2Zk0Xk7xxZ",
        "outputId": "c092e6f1-4642-4e3f-fdd6-cddced6843de",
        "colab": {
          "base_uri": "https://localhost:8080/",
          "height": 314
        }
      },
      "execution_count": 16,
      "outputs": [
        {
          "output_type": "display_data",
          "data": {
            "text/plain": [
              "<Figure size 432x288 with 1 Axes>"
            ],
            "image/png": "[encoded data removed]"
          },
          "metadata": {
            "needs_background": "light"
          }
        },
        {
          "output_type": "execute_result",
          "data": {
            "text/plain": [
              "<sympy.plotting.plot.Plot at 0x7f5b9c887650>"
            ]
          },
          "metadata": {},
          "execution_count": 16
        }
      ]
    },
    {
      "cell_type": "code",
      "source": [
        "import numpy as np\n",
        "import matplotlib.pyplot as plt\n",
        "\n",
        "def cmap_ints(i):\n",
        "    return \"#\"+hex(((int(i)+1)*2396745)%(256**3))[2:].rjust(6,\"0\")\n",
        "\n",
        "x = np.linspace(0,1,100)\n",
        "y1 = 3*x + 4\n",
        "y2 = 2*x - 5\n",
        "plt.plot(x,y1,c=cmap_ints(1))\n",
        "plt.plot(x,y2,c=cmap_ints(2))"
      ],
      "metadata": {
        "id": "9rRjapMCpb9X",
        "outputId": "5a95d701-166d-4607-e4ff-9442660f3692",
        "colab": {
          "base_uri": "https://localhost:8080/",
          "height": 282
        }
      },
      "execution_count": 10,
      "outputs": [
        {
          "output_type": "execute_result",
          "data": {
            "text/plain": [
              "[<matplotlib.lines.Line2D at 0x7f5b9c9546d0>]"
            ]
          },
          "metadata": {},
          "execution_count": 10
        },
        {
          "output_type": "display_data",
          "data": {
            "text/plain": [
              "<Figure size 432x288 with 1 Axes>"
            ],
            "image/png": "[encoded data removed]"
          },
          "metadata": {
            "needs_background": "light"
          }
        }
      ]
    },
    {
      "cell_type": "code",
      "source": [
        ""
      ],
      "metadata": {
        "id": "DMRlY510pcYF"
      },
      "execution_count": null,
      "outputs": []
    }
  ]
}