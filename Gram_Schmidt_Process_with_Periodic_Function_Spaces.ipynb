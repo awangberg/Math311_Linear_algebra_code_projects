{
  "nbformat": 4,
  "nbformat_minor": 0,
  "metadata": {
    "colab": {
      "name": "Gram-Schmidt Process with Periodic Function Spaces.ipynb",
      "provenance": [],
      "authorship_tag": "ABX9TyMUUsViauf6pU4u4LF7IvC7",
      "include_colab_link": true
    },
    "kernelspec": {
      "name": "python3",
      "display_name": "Python 3"
    },
    "language_info": {
      "name": "python"
    }
  },
  "cells": [
    {
      "cell_type": "markdown",
      "metadata": {
        "id": "view-in-github",
        "colab_type": "text"
      },
      "source": [
        "<a href=\"https://colab.research.google.com/github/awangberg/Math242_Linear_algebra_code_projects/blob/master/Gram_Schmidt_Process_with_Periodic_Function_Spaces.ipynb\" target=\"_parent\"><img src=\"https://colab.research.google.com/assets/colab-badge.svg\" alt=\"Open In Colab\"/></a>"
      ]
    },
    {
      "cell_type": "markdown",
      "source": [
        "Related Youtube Video on a talking piano by Mark Rober - watch before completing the activity:  https://www.youtube.com/watch?v=uBEL3YVzMwk\n",
        "\n",
        "\n",
        "\n",
        "# Gram-Schmidt Process with Function Spaces\n",
        "\n",
        "1. Project 1: Polynomial spaces\n",
        "  1. Choose a \"random\" basis for polynomials of degree 4 or less on the interval $$ -2 \\le t \\le 2 $$\n",
        "  2. Create the inner product (dot product) and norm (magnitude) functions\n",
        "  3. Go through the Gram-Schmidt process to turn the random basis into a nice orthonormal basis\n",
        "  4. Write some different functions in the orthonormal basis.\n",
        "\n",
        "\n",
        "2. Project 2: Homework for this project:\n",
        "  1. Choose a \"random\" basis for periodic functions on the interval $$ -\\pi \\le t \\le \\pi $$\n",
        "  2. Create the inner product (dot product) and norm (magnitude) functions\n",
        "  3. Do the Gram-Schmidt process to turn the random basis into a nice orthonormal basis\n",
        "  4. Write some different functiosn in the orthonormal basis."
      ],
      "metadata": {
        "id": "7cIMTgEm8cgt"
      }
    },
    {
      "cell_type": "code",
      "execution_count": null,
      "metadata": {
        "id": "tWo4yv9o8YGx"
      },
      "outputs": [],
      "source": [
        "#  Libraries that we'll need:\n",
        "import numpy as np\n",
        "import sympy as sym\n",
        "from sympy.plotting import plot\n",
        "import matplotlib.pyplot as plt\n",
        "\n",
        "# We'll specify that x and t are variables:\n",
        "x, t, k, j = sym.symbols('x, t, k, j')"
      ]
    },
    {
      "cell_type": "markdown",
      "source": [
        "# Project 2: Create an Orthonormal Basis for Periodic Function Spaces"
      ],
      "metadata": {
        "id": "PRAOELGEhz9V"
      }
    },
    {
      "cell_type": "markdown",
      "source": [
        "## Part 1. Choose a \"random\" basis for periodic functions on the interval \n",
        "$$ -\\pi \\le x \\le \\pi $$\n",
        "\n",
        "We'll use a naming convention c# and s#, where # is the number of periods that are repeating in the function.  We'll include sine and cosine functions in pairs.\n",
        "\n",
        "$$  c0 = cos(0x) = 1 \\hspace{1cm}  \\hspace{3cm}  $$\n",
        "$$  c1 = cos(x)  \\hspace{1cm} s1 = sin(x) $$\n",
        "$$  c2 = cos(2x)  \\hspace{1cm} s2 = sin(2x) $$\n",
        "$$     \\vdots  \\hspace{4cm} \\vdots $$\n",
        "$$  c4 = cos(4x)  \\hspace{1cm} s4 = sin(4x) $$\n",
        "\n",
        "[ We won't include $s0 = sin(0x)$, since this is just the zero function. "
      ],
      "metadata": {
        "id": "b9foyBoY-KJ3"
      }
    },
    {
      "cell_type": "code",
      "source": [
        "# Our \"random\" vectors:\n",
        "c0 = 1\n",
        "s1 = sym.sin(x)\n",
        "c1 = sym.cos(x)\n",
        "\n",
        "###  YOU FILL THESE IN ###\n",
        "\n"
      ],
      "metadata": {
        "id": "JC16q2x7gGmc"
      },
      "execution_count": null,
      "outputs": []
    },
    {
      "cell_type": "markdown",
      "source": [
        "## Part 2. Create and Scale the inner product (dot product) and norm (magnitude) functions"
      ],
      "metadata": {
        "id": "S0j2ZV7IhjPu"
      }
    },
    {
      "cell_type": "markdown",
      "source": [
        "The inner product that works with the *continuous* functions $f$ and $g$ is\n",
        "\n",
        "$$ < f | g > \\approx \\int_{\\textrm{Left}}^{\\textrm{Right}} g(x) f(x) \\; dx $$\n",
        "\n",
        "or\n",
        "\n",
        "$$ < f | g > = k \\int_{\\textrm{Left}}^{\\textrm{Right}} g(x) f(x) \\; dx $$\n",
        "\n",
        "We'll include a scaling factor $k$ for convenience, so that the inner product of the constant function $f(x) = 1$ with itself will be one. That is, we'd like\n",
        "\n",
        "$$< 1 | 1 >  = 1$$\n",
        "\n",
        "Since we're working with periodic functions, and $cos(0x) = 1$, we'd like:\n",
        "\n",
        "$$ < \\, cos(0x) \\, |\\, cos(0x) \\, > = 1 $$\n"
      ],
      "metadata": {
        "id": "zSrmfcm3vWvi"
      }
    },
    {
      "cell_type": "markdown",
      "source": [
        "### 3a. Determining the scaling constant for the inner product on this function space\n",
        "\n",
        "Find the scaling constant so that the inner product on the constant function $f(x) = 1$ with itself is 1 on the interval \n",
        "\n",
        "$$ \\pi \\le x \\le \\pi$$"
      ],
      "metadata": {
        "id": "iSpgCI1-21Th"
      }
    },
    {
      "cell_type": "code",
      "source": [
        "### We need to fix this inner product:\n",
        "\n",
        "#  Note:  pi is written as  sym.pi\n",
        "sym.integrate(1*1, (x,-2,2))"
      ],
      "metadata": {
        "id": "cW-TxG33iQ8k",
        "outputId": "30d564d8-7ab5-45f8-ef6c-c12865418547",
        "colab": {
          "base_uri": "https://localhost:8080/",
          "height": 37
        }
      },
      "execution_count": null,
      "outputs": [
        {
          "output_type": "execute_result",
          "data": {
            "text/plain": [
              "4"
            ],
            "text/latex": "$\\displaystyle 4$"
          },
          "metadata": {},
          "execution_count": 32
        }
      ]
    },
    {
      "cell_type": "markdown",
      "source": [
        "### 3b. Defining the inner product and norm\n",
        "\n",
        "Using this factor, we'll define our inner product as a function `ip(f,g)` as \n",
        "\n",
        "$$ < \\, f \\, | \\, g \\, > = \\frac{1}{ ?? } \\int_{-\\pi}^{\\pi} g(x) \\, f(x) \\; dx $$\n",
        "\n",
        "The norm, or magnitude, of a vector $f$ will be given by\n",
        "\n",
        "$$ \\left| f \\right| = \\sqrt{ < \\, f \\, | \\, f \\, > }$$\n",
        "\n",
        "We'll use this to define our norm function `n(f)`.  Because of our adjusted scaling factor, we expect the norm of the constant function $f(x) = 1$, written $f(x) = cos(0\\,x)$,  to be:\n",
        "\n",
        "$$ \\left| \\cos(0x) \\right| = 1$$\n"
      ],
      "metadata": {
        "id": "AroAi3ae3jDg"
      }
    },
    {
      "cell_type": "code",
      "source": [
        "# YOU SHOULD FIX THIS:\n",
        "def ip(a,b):\n",
        "    return (1/(1)) * sym.integrate(a*b, (x, -2, 2))\n",
        "\n",
        "def n(a):\n",
        "    return sym.sqrt(ip(a,a))"
      ],
      "metadata": {
        "id": "dSBdSm0V4HNp"
      },
      "execution_count": null,
      "outputs": []
    },
    {
      "cell_type": "markdown",
      "source": [
        "### 3c. Test the scaling constant on the inner product and norm\n",
        "\n",
        "We'll check that everything works:  \n",
        "\n",
        "  * Is $< 1 | 1 > = 1$\n",
        "\n",
        "  * Is $\\left| 1 \\right| = 1$?"
      ],
      "metadata": {
        "id": "0aVS636T5RxY"
      }
    },
    {
      "cell_type": "code",
      "source": [
        "# check that ip(1,1) = 1 and n(1) = 1:\n",
        "print(\"Testing that <1|1> is 1, and |1| = 1: \")\n",
        "print(\"ip(1,1) = \", ip(1,1))\n",
        "print(\"n(1) = \", n(1))\n"
      ],
      "metadata": {
        "id": "4TolMcRc5a4L",
        "outputId": "18e8a74d-52f7-4b0f-ac21-11e1ad9f750c",
        "colab": {
          "base_uri": "https://localhost:8080/"
        }
      },
      "execution_count": null,
      "outputs": [
        {
          "output_type": "stream",
          "name": "stdout",
          "text": [
            "Testing that <1|1> is 1, and |1| = 1: \n",
            "ip(1,1) =  4.00000000000000\n",
            "n(1) =  2.00000000000000\n"
          ]
        }
      ]
    },
    {
      "cell_type": "markdown",
      "source": [
        "## Part 4. Perform the Gram-Schmidt process to create an orthonormal basis from the random basis.\n",
        "\n",
        "We have the *random* basis\n",
        "\n",
        "$$  c0 = cos(0x) = 1 \\hspace{1cm}  \\hspace{3cm}  $$\n",
        "$$  c1 = cos(x)  \\hspace{1cm} s1 = sin(x) $$\n",
        "$$  c2 = cos(2x)  \\hspace{1cm} s2 = sin(2x) $$\n",
        "$$     \\vdots  \\hspace{4cm} \\vdots $$\n",
        "$$  c4 = cos(4x)  \\hspace{1cm} s4 = sin(4x) $$\n",
        "\n",
        "We'll use code to perform the Gram-Schmidt Orthonormalization Process to generate the nice *orthonormal* basis given by \n",
        "\n",
        "$$   uc_0  \\hspace{1cm} uc_1 \\hspace{1cm} us_1 \\hspace{1cm} uc_2 \\hspace{1cm} us_2 \\hspace{1cm} \\cdots \\hspace{1cm} uc_4 \\hspace{1cm} us_4 $$\n",
        "\n",
        "This involves four steps:\n",
        "  1.  Select an unprocessed vector from the random basis\n",
        "  2.  Find the vector component $t$ perpendicular to the space spanned our existing nice basis vectors by $uc_0, uc_1, us_1, \\cdots, uc_{i-1}, us_{i-1}$.  That is, we'll generalize this expression:\n",
        "$$ T_i = r_i - <\\, r_i \\, | \\, u_1 \\, > \\, u_1 - <\\, r_i \\, | \\, u_2 \\, > \\, u_2 - \\cdots - <\\, r_i \\, | \\, u_{i-1} \\, > \\, u_{i-1}$$\n",
        "for use with our basis vectors.\n",
        "  3.  Normalized $t$ and set it to $uc_i$ or $us_i$, if it is non-zero:\n",
        "  $$ uc_i = \\frac{1}{\\left| t \\right|} t  \\hspace{.5cm} \\textrm{ or }  \\hspace{.5cm} us_i = \\frac{1}{\\left| t \\right| } t \\hspace{.5cm} \\textrm{ if $T_i \\ne \\vec{0}$ }$$\n",
        "  4.  Test that our new vector has norm $1$ and is orthogonal to the previous vectors in the orthonormal basis.  That is, perform this but use our basis vectors $uc0, uc1, us1, \\cdots$:\n",
        "  $$ \\textrm{ Check: } \\left| u_i \\right| = 1 \\textrm{ and } < \\, u_i \\, | \\, u_1 \\, > = 0, \\cdots, < \\, u_i \\, | \\, u_{i-1} \\, > = 0$$"
      ],
      "metadata": {
        "id": "kwAIOSA4uZia"
      }
    },
    {
      "cell_type": "markdown",
      "source": [
        "### 4a. Find the first vector $uc_0$, and do sanity checks"
      ],
      "metadata": {
        "id": "jfoV9lBIxM5j"
      }
    },
    {
      "cell_type": "code",
      "source": [
        "# Find the orthogonal part to the existing nice basis:\n",
        "t0 = c0\n",
        "print(\"t0 = \", t0)"
      ],
      "metadata": {
        "id": "bFKnBt8hAX5f",
        "outputId": "ff4aa9cc-3c9e-4698-cab4-2cc182ee559f",
        "colab": {
          "base_uri": "https://localhost:8080/"
        }
      },
      "execution_count": null,
      "outputs": [
        {
          "output_type": "stream",
          "name": "stdout",
          "text": [
            "t0 =  1\n"
          ]
        }
      ]
    },
    {
      "cell_type": "code",
      "source": [
        "# Normalize:\n",
        "print(\"|t0| = \", n(t0))\n",
        "uc0 = (1/n(t0))*t0\n",
        "print(\"uc0 = \", uc0)"
      ],
      "metadata": {
        "id": "ZOzD1BQHAkRS",
        "outputId": "c735be30-430d-4b7d-8b2e-5468372e8efb",
        "colab": {
          "base_uri": "https://localhost:8080/"
        }
      },
      "execution_count": null,
      "outputs": [
        {
          "output_type": "stream",
          "name": "stdout",
          "text": [
            "|t0| =  2.00000000000000\n",
            "uc0 =  0.500000000000000\n"
          ]
        }
      ]
    },
    {
      "cell_type": "code",
      "source": [
        "# Check that uc0 has size 1 and is orthogonal to prior ui's:\n",
        "print(\"Check:  The size of uc0 is \", n(uc0))\n",
        "#print(\"Check:  The inner product of u0 and ... is \", ip(uc0,uc0))"
      ],
      "metadata": {
        "id": "wSMMBxY9222T",
        "outputId": "98b6a88d-fae8-455b-8043-4adbe45a7c1f",
        "colab": {
          "base_uri": "https://localhost:8080/"
        }
      },
      "execution_count": null,
      "outputs": [
        {
          "output_type": "stream",
          "name": "stdout",
          "text": [
            "Check:  The size of uc0 is  1.00000000000000\n"
          ]
        }
      ]
    },
    {
      "cell_type": "markdown",
      "source": [
        "### 4b. Process $c1 = cos(x)$ and do sanity checks."
      ],
      "metadata": {
        "id": "QTG09GL13UgV"
      }
    },
    {
      "cell_type": "code",
      "source": [
        "# Find the orthogonal part to the existing u_i's:\n",
        "tc1 = c1 - ip(c1, uc0)*uc0\n",
        "print(\"tc1 = \", tc1)"
      ],
      "metadata": {
        "id": "zQlcGPsfBIlW",
        "outputId": "4e62eb00-dc42-45a7-e26b-7e8b51441d67",
        "colab": {
          "base_uri": "https://localhost:8080/"
        }
      },
      "execution_count": null,
      "outputs": [
        {
          "output_type": "stream",
          "name": "stdout",
          "text": [
            "tc1 =  cos(x) - 0.5*sin(2)\n"
          ]
        }
      ]
    },
    {
      "cell_type": "code",
      "source": [
        "#Normalize\n",
        "print(\"|tc1| = \", n(tc1))\n",
        "uc1 = (1/n(tc1))*tc1\n",
        "print(\"uc1 = \", uc1)\n",
        "#print(\"uc1 = \", sym.simplify(uc1))"
      ],
      "metadata": {
        "id": "jWcoF8AjBQgB",
        "outputId": "62926ce0-dc65-42da-c69c-a1d7084a1ae4",
        "colab": {
          "base_uri": "https://localhost:8080/"
        }
      },
      "execution_count": null,
      "outputs": [
        {
          "output_type": "stream",
          "name": "stdout",
          "text": [
            "|tc1| =  sqrt(1.0*sin(2)*cos(2) + 2.0*cos(2)**2 + 1.0*sin(2)**2)\n",
            "uc1 =  (cos(x) - 0.5*sin(2))/sqrt(1.0*sin(2)*cos(2) + 2.0*cos(2)**2 + 1.0*sin(2)**2)\n"
          ]
        }
      ]
    },
    {
      "cell_type": "code",
      "source": [
        "# Sanity Check:  Check that uc1 has size 1 and is orthogonal to prior u's:\n",
        "print(\"Check:  The size of uc1 is: \", n(uc1))\n",
        "#print(\"Check:  The size of uc1 is: \", sym.simplify(n(uc1)))\n",
        "print(\"Check:  The inner product of uc1 and uc0 is: \", ip(uc1,uc0))"
      ],
      "metadata": {
        "id": "Vg2xK2szBv_n",
        "outputId": "a2417ba9-ca64-4403-df11-2f44d43a9aaf",
        "colab": {
          "base_uri": "https://localhost:8080/"
        }
      },
      "execution_count": null,
      "outputs": [
        {
          "output_type": "stream",
          "name": "stdout",
          "text": [
            "Check:  The size of uc1 is:  sqrt(1.0*(0.5*sin(2)*cos(2) + 1.0*cos(2)**2 + 0.5*sin(2)**2)/(1.0*sin(2)*cos(2) + 2.0*cos(2)**2 + 1.0*sin(2)**2) - 1.0*(-0.5*sin(2)**2 - 1.0*cos(2)**2 - 0.5*sin(2)*cos(2))/(1.0*sin(2)*cos(2) + 2.0*cos(2)**2 + 1.0*sin(2)**2))\n",
            "Check:  The inner product of uc1 and uc0 is:  0\n"
          ]
        }
      ]
    },
    {
      "cell_type": "markdown",
      "source": [
        "### 4c. Process $s1 = sin(x)$ and do sanity checks"
      ],
      "metadata": {
        "id": "5Ir3XlVH7kkp"
      }
    },
    {
      "cell_type": "code",
      "source": [
        "#  Now, do the same steps above for sin(1x):\n",
        "# Find the orthogonal part to the existing nice orthogonal basis:\n",
        "ts1 = s1 - ip(s1, uc0)*uc0 - ip(s1, uc1)*uc1\n",
        "print(\"ts1 = \", ts1)\n",
        "# Normalize:\n",
        "print(\"|ts1| = \", n(ts1))\n",
        "# Form the new orthogonal vector:\n",
        "us1 = (1/n(ts1))*ts1\n",
        "print(\"us1 = \", us1)"
      ],
      "metadata": {
        "id": "DIjr8F0o5mWB",
        "outputId": "757ff120-da30-4f80-c803-e61433750a77",
        "colab": {
          "base_uri": "https://localhost:8080/"
        }
      },
      "execution_count": null,
      "outputs": [
        {
          "output_type": "stream",
          "name": "stdout",
          "text": [
            "ts1 =  sin(x)\n",
            "|ts1| =  sqrt(-1.0*sin(2)*cos(2) + 2.0)\n",
            "us1 =  sin(x)/sqrt(-1.0*sin(2)*cos(2) + 2.0)\n"
          ]
        }
      ]
    },
    {
      "cell_type": "code",
      "source": [
        "# Sanity Check:  Check that us1 has size 1 and is orthogonal to prior u's:\n",
        "print(\"Check:  The size of us1 is: \", n(us1))\n",
        "print(\"Check:  The inner product of us1 and uc0 is: \", ip(us1,uc0))\n",
        "print(\"Check:  The inner product of us1 and uc1 is: \", ip(us1,uc1))"
      ],
      "metadata": {
        "id": "E4aerByv52Sp",
        "outputId": "6cf8ce41-0c85-4237-e339-60f4266d8434",
        "colab": {
          "base_uri": "https://localhost:8080/"
        }
      },
      "execution_count": null,
      "outputs": [
        {
          "output_type": "stream",
          "name": "stdout",
          "text": [
            "Check:  The size of us1 is:  sqrt(1.0*(-sin(2)*cos(2)/2 + 1)/(-1.0*sin(2)*cos(2) + 2.0) - 1.0*(-1 + sin(2)*cos(2)/2)/(-1.0*sin(2)*cos(2) + 2.0))\n",
            "Check:  The inner product of us1 and uc0 is:  0\n",
            "Check:  The inner product of us1 and uc1 is:  0\n"
          ]
        }
      ]
    },
    {
      "cell_type": "markdown",
      "source": [
        "### 4d. Process $c2, s2, c3, s3, c4, $ and $s4$ in order to find $uc2, us2, uc3, us3, uc4, $ and $us4$:"
      ],
      "metadata": {
        "id": "2Cla_rLK7w1b"
      }
    },
    {
      "cell_type": "code",
      "source": [],
      "metadata": {
        "id": "unFfhCZV8yW0"
      },
      "execution_count": null,
      "outputs": []
    },
    {
      "cell_type": "markdown",
      "source": [
        "#### Find uc_2, and do sanity checks"
      ],
      "metadata": {
        "id": "Xo-Y3Xk1BlGc"
      }
    },
    {
      "cell_type": "code",
      "source": [],
      "metadata": {
        "id": "Tnhan1Af8zv-"
      },
      "execution_count": null,
      "outputs": []
    },
    {
      "cell_type": "markdown",
      "source": [
        "#### Find us_2, and do sanity checks"
      ],
      "metadata": {
        "id": "dCj1G1RN8ba1"
      }
    },
    {
      "cell_type": "markdown",
      "source": [
        "#### FInd $uc_3$ and do sanity checks"
      ],
      "metadata": {
        "id": "NEYJf-Ba83aQ"
      }
    },
    {
      "cell_type": "code",
      "source": [],
      "metadata": {
        "id": "HcVQwObz862a"
      },
      "execution_count": null,
      "outputs": []
    },
    {
      "cell_type": "markdown",
      "source": [
        "#### Find $us_3$ and do sanity checks"
      ],
      "metadata": {
        "id": "adxFe7nz88CK"
      }
    },
    {
      "cell_type": "code",
      "source": [],
      "metadata": {
        "id": "IajmnIQr9EoH"
      },
      "execution_count": null,
      "outputs": []
    },
    {
      "cell_type": "markdown",
      "source": [
        "#### Find $uc_4$ and do sanity checks"
      ],
      "metadata": {
        "id": "IyXe-4BN9FN1"
      }
    },
    {
      "cell_type": "code",
      "source": [],
      "metadata": {
        "id": "-K_2Mlyu9J3j"
      },
      "execution_count": null,
      "outputs": []
    },
    {
      "cell_type": "markdown",
      "source": [
        "#### FInd $us_4$ and do sanity checks"
      ],
      "metadata": {
        "id": "PTd4y8aG9KnN"
      }
    },
    {
      "cell_type": "code",
      "source": [],
      "metadata": {
        "id": "CVV8q8jl9N_u"
      },
      "execution_count": null,
      "outputs": []
    },
    {
      "cell_type": "markdown",
      "source": [
        "### 4f. The orthonormal basis:"
      ],
      "metadata": {
        "id": "3k5JpggMMg9s"
      }
    },
    {
      "cell_type": "code",
      "source": [
        "#The new basis:\n",
        "print(\"The Orthonormal Basis: \")\n",
        "print(\"uc0 = \", uc0)\n",
        "print(\"uc1 = \", uc1)\n",
        "print(\"us1 = \", us1)\n",
        "print(\"uc2 = \", uc2)\n",
        "print(\"us1 = \", us2)\n",
        "print(\"uc3 = \", uc3)\n",
        "print(\"us1 = \", us3)\n",
        "print(\"uc4 = \", uc4)\n",
        "print(\"us1 = \", us4)\n"
      ],
      "metadata": {
        "id": "twiBrPQy3Pdr"
      },
      "execution_count": null,
      "outputs": []
    },
    {
      "cell_type": "markdown",
      "source": [
        "## Part 5. Express various functions in the orthonormal basis."
      ],
      "metadata": {
        "id": "MTB9HyFquhvg"
      }
    },
    {
      "cell_type": "markdown",
      "source": [
        "### 5a. Approximate $x$ in this orthonormal basis\n",
        "\n",
        "We approximate the functions using four iterations:\n",
        "\n",
        "  1.  Just using $uc0$\n",
        "  2.  Using $uc0, uc1,$ and $us1$\n",
        "  3.  Also including $uc2$ and $us2$\n",
        "  4.  Also including $uc3$ and $us3$\n",
        "  5.  Finally using all the basis elements by also including $uc4$ and $us4$."
      ],
      "metadata": {
        "id": "FxIXFRKE0_e-"
      }
    },
    {
      "cell_type": "code",
      "source": [
        "pp = x\n",
        "plot_original = plot(pp, (x,-sym.pi,sym.pi), line_color='black', show=False)\n",
        "\n",
        "pp0 = ip(pp,uc0)*uc0 \n",
        "plot0 = plot(pp0, (x,-sym.pi,sym.pi), line_color='red', show=False)\n",
        "print(\"0th approximation to \", pp , \" is: \", pp0)\n",
        "plot0.extend(plot_original)\n",
        "plot0.show()\n",
        "\n",
        "pp1 = ip(pp,uc0)*uc0 + ip(pp,uc1)*uc1 + ip(pp,us1)*us1 \n",
        "plot1 = plot(pp1, (x,-sym.pi,sym.pi), line_color='orange', show=False)\n",
        "print(\"1st approximation to \", pp , \" is: \", pp1)\n",
        "plot1.extend(plot_original)\n",
        "plot1.show()\n",
        "\n",
        "pp2 = ip(pp,uc0)*uc0+ ip(pp,uc1)*uc1 + ip(pp,us1)*us1 + ip(pp,uc2)*uc2  + ip(pp,us2)*us2\n",
        "plot2 = plot(pp2, (x,-sym.pi,sym.pi), line_color='green', show=False)\n",
        "print(\"2nd approximation to \", pp , \" is: \", pp2)\n",
        "plot2.extend(plot_original)\n",
        "plot2.show()\n",
        "\n",
        "pp3 = ip(pp,uc0)*uc0+ ip(pp,uc1)*uc1 + ip(pp,us1)*us1 + ip(pp,uc2)*uc2  + ip(pp,us2)*us2 + ip(pp,uc3)*uc3  + ip(pp,us3)*us3\n",
        "plot3 = plot(pp3, (x,-sym.pi,sym.pi), line_color='blue', show=False)\n",
        "print(\"3rd approximation to \", pp , \" is: \", pp3)\n",
        "plot3.extend(plot_original)\n",
        "plot3.show()\n",
        "\n",
        "pp4 = ip(pp,uc0)*uc0+ ip(pp,uc1)*uc1 + ip(pp,us1)*us1 + ip(pp,uc2)*uc2  + ip(pp,us2)*us2 + ip(pp,uc3)*uc3  + ip(pp,us3)*us3 + ip(pp,uc4)*uc4 + ip(pp,us4)*us4\n",
        "plot4 = plot(pp4, (x,-sym.pi,sym.pi), line_color='purple', show=False)\n",
        "print(\"4th approximation to \", pp , \" is: \", pp4)\n",
        "plot4.extend(plot_original)\n",
        "plot4.show()\n",
        "\n",
        "\n",
        "# plot all of them:\n",
        "plot_original.extend(plot0)\n",
        "plot_original.extend(plot1)\n",
        "plot_original.extend(plot2)\n",
        "plot_original.extend(plot3)\n",
        "plot_original.extend(plot4)\n",
        "plot_original.show()"
      ],
      "metadata": {
        "id": "Wg4A71vr3gLk"
      },
      "execution_count": null,
      "outputs": []
    },
    {
      "cell_type": "markdown",
      "source": [
        "### 5b. Approximate $e^x$ in this orthonormal basis"
      ],
      "metadata": {
        "id": "ljOeN8D81NwM"
      }
    },
    {
      "cell_type": "code",
      "source": [
        "qq = sym.exp(x)\n",
        "plot_original = plot(qq, (x,-sym.pi,sym.pi), line_color='black', show=False)\n",
        "\n",
        "qq0 = ip(qq,uc0)*uc0 \n",
        "plot0 = plot(qq0, (x,-sym.pi,sym.pi), line_color='red', show=False)\n",
        "print(\"0th aqqroximation to \", qq , \" is: \", qq0)\n",
        "plot0.extend(plot_original)\n",
        "plot0.show()\n",
        "\n",
        "qq1 = ip(qq,uc0)*uc0 + ip(qq,uc1)*uc1 + ip(qq,us1)*us1 \n",
        "plot1 = plot(qq1, (x,-sym.pi,sym.pi), line_color='orange', show=False)\n",
        "print(\"1st aqqroximation to \", qq , \" is: \", qq1)\n",
        "plot1.extend(plot_original)\n",
        "plot1.show()\n",
        "\n",
        "qq2 = ip(qq,uc0)*uc0+ ip(qq,uc1)*uc1 + ip(qq,us1)*us1 + ip(qq,uc2)*uc2  + ip(qq,us2)*us2\n",
        "plot2 = plot(qq2, (x,-sym.pi,sym.pi), line_color='green', show=False)\n",
        "print(\"2nd aqqroximation to \", qq , \" is: \", qq2)\n",
        "plot2.extend(plot_original)\n",
        "plot2.show()\n",
        "\n",
        "qq3 = ip(qq,uc0)*uc0+ ip(qq,uc1)*uc1 + ip(qq,us1)*us1 + ip(qq,uc2)*uc2  + ip(qq,us2)*us2 + ip(qq,uc3)*uc3  + ip(qq,us3)*us3\n",
        "plot3 = plot(qq3, (x,-sym.pi,sym.pi), line_color='blue', show=False)\n",
        "print(\"3rd aqqroximation to \", qq , \" is: \", qq3)\n",
        "plot3.extend(plot_original)\n",
        "plot3.show()\n",
        "\n",
        "qq4 = ip(qq,uc0)*uc0+ ip(qq,uc1)*uc1 + ip(qq,us1)*us1 + ip(qq,uc2)*uc2  + ip(qq,us2)*us2 + ip(qq,uc3)*uc3  + ip(qq,us3)*us3 + ip(qq,uc4)*uc4 + ip(qq,us4)*us4\n",
        "plot4 = plot(qq4, (x,-sym.pi,sym.pi), line_color='purple', show=False)\n",
        "print(\"4th aqqroximation to \", qq , \" is: \", qq4)\n",
        "plot4.extend(plot_original)\n",
        "plot4.show()\n",
        "\n",
        "\n",
        "# plot all of them:\n",
        "plot_original.extend(plot0)\n",
        "plot_original.extend(plot1)\n",
        "plot_original.extend(plot2)\n",
        "plot_original.extend(plot3)\n",
        "plot_original.extend(plot4)\n",
        "plot_original.show()"
      ],
      "metadata": {
        "id": "B6E-9cvCEuNj"
      },
      "execution_count": null,
      "outputs": []
    },
    {
      "cell_type": "markdown",
      "source": [
        "### 5c. Approximate the polynomial $1 - x + x^2 - x^3 + x^4 $ in this orthonormal basis"
      ],
      "metadata": {
        "id": "qByxu36B1SVU"
      }
    },
    {
      "cell_type": "code",
      "source": [
        "ss = 1-x+x**2-x**3+x**4\n",
        "\n",
        "plot_original = plot(ss, (x,-sym.pi,sym.pi), line_color='black', show=False)\n",
        "ss0 = ip(ss,uc0)*uc0 \n",
        "plot0 = plot(ss0, (x,-sym.pi,sym.pi), line_color='red', show=False)\n",
        "print(\"0th assroximation to \", ss , \" is: \", ss0)\n",
        "plot0.extend(plot_original)\n",
        "plot0.show()\n",
        "\n",
        "ss1 = ip(ss,uc0)*uc0 + ip(ss,uc1)*uc1 + ip(ss,us1)*us1 \n",
        "plot1 = plot(ss1, (x,-sym.pi,sym.pi), line_color='orange', show=False)\n",
        "print(\"1st assroximation to \", ss , \" is: \", ss1)\n",
        "plot1.extend(plot_original)\n",
        "plot1.show()\n",
        "\n",
        "ss2 = ip(ss,uc0)*uc0+ ip(ss,uc1)*uc1 + ip(ss,us1)*us1 + ip(ss,uc2)*uc2  + ip(ss,us2)*us2\n",
        "plot2 = plot(ss2, (x,-sym.pi,sym.pi), line_color='green', show=False)\n",
        "print(\"2nd assroximation to \", ss , \" is: \", ss2)\n",
        "plot2.extend(plot_original)\n",
        "plot2.show()\n",
        "\n",
        "ss3 = ip(ss,uc0)*uc0+ ip(ss,uc1)*uc1 + ip(ss,us1)*us1 + ip(ss,uc2)*uc2  + ip(ss,us2)*us2 + ip(ss,uc3)*uc3  + ip(ss,us3)*us3\n",
        "plot3 = plot(ss3, (x,-sym.pi,sym.pi), line_color='blue', show=False)\n",
        "print(\"3rd assroximation to \", ss , \" is: \", ss3)\n",
        "plot3.extend(plot_original)\n",
        "plot3.show()\n",
        "\n",
        "ss4 = ip(ss,uc0)*uc0+ ip(ss,uc1)*uc1 + ip(ss,us1)*us1 + ip(ss,uc2)*uc2  + ip(ss,us2)*us2 + ip(ss,uc3)*uc3  + ip(ss,us3)*us3 + ip(ss,uc4)*uc4 + ip(ss,us4)*us4\n",
        "plot4 = plot(ss4, (x,-sym.pi,sym.pi), line_color='purple', show=False)\n",
        "print(\"4th assroximation to \", ss , \" is: \", ss4)\n",
        "plot4.extend(plot_original)\n",
        "plot4.show()\n",
        "\n",
        "\n",
        "# plot all of them:\n",
        "plot_original.extend(plot0)\n",
        "plot_original.extend(plot1)\n",
        "plot_original.extend(plot2)\n",
        "plot_original.extend(plot3)\n",
        "plot_original.extend(plot4)\n",
        "plot_original.show()"
      ],
      "metadata": {
        "id": "V3wQgN35AkwE"
      },
      "execution_count": null,
      "outputs": []
    }
  ]
}