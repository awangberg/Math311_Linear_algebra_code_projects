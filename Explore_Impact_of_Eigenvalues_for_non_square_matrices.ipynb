{
  "nbformat": 4,
  "nbformat_minor": 0,
  "metadata": {
    "colab": {
      "name": "Copy of Explore Impact of Eigenvalues for non-square matrices.ipynb",
      "provenance": [],
      "authorship_tag": "ABX9TyMORz4pHfN0Ado2k7EBeHCS",
      "include_colab_link": true
    },
    "kernelspec": {
      "name": "python3",
      "display_name": "Python 3"
    },
    "language_info": {
      "name": "python"
    }
  },
  "cells": [
    {
      "cell_type": "markdown",
      "metadata": {
        "id": "view-in-github",
        "colab_type": "text"
      },
      "source": [
        "<a href=\"https://colab.research.google.com/github/awangberg/Math311_Linear_algebra_code_projects/blob/master/Explore_Impact_of_Eigenvalues_for_non_square_matrices.ipynb\" target=\"_parent\"><img src=\"https://colab.research.google.com/assets/colab-badge.svg\" alt=\"Open In Colab\"/></a>"
      ]
    },
    {
      "cell_type": "markdown",
      "source": [
        "#  Singular Value Decomposition:  Exploring Eigenvalues and Eigenvectors for non-square matrices\n",
        "\n",
        "The eigenvalues $\\lambda$ and eigenvectors $\\vec{v}$ of a square matrix $M$ satisfy the relationship\n",
        "\n",
        "$$  M  \\vec{v} = \\lambda \\vec{v}$$\n",
        "\n",
        "In this equation:\n",
        "  \n",
        "  * The eigenvectors $\\vec{v}$ tell us the directions stretched by $M$;\n",
        "  * The eigenvalues $\\lambda$ tell us how much $M$ stretches those directions\n",
        "\n",
        "Taken together, the stretching factors $\\lambda$ and corresponding directions $\\vec{v}$ completely characterize the transformation given by matrix $M$.\n",
        "\n",
        "In this activity, we'll explore a similar impact for non-square matrices.\n",
        "\n",
        "We're going to use fairly large non-square matrices.  In fact, we'll use pictures so that we can **see** the impact of the stretching factors and their corresponding directions. \n",
        "\n",
        "In order to make this impact more noticeable, we're only going to use parts of the overall image.  Part of the lab is to determine what the overall image is - and when you can notice the overall image.  That is:\n",
        "\n",
        "  1. Do you need all of the information contained in the matrix, or just some of it?\n",
        "  2. What information should you use to get a sense of the image?\n",
        "  3. What does the remaining unused information represent?"
      ],
      "metadata": {
        "id": "ios54lhO-_-v"
      }
    },
    {
      "cell_type": "code",
      "execution_count": null,
      "metadata": {
        "id": "eq3uSr6w-3Nj"
      },
      "outputs": [],
      "source": [
        "#  Libraries that we'll need:\n",
        "import numpy as np\n",
        "from scipy import misc\n",
        "from scipy import linalg\n",
        "from PIL import Image\n",
        "import imageio\n",
        "import matplotlib.pyplot as plt\n",
        "\n",
        "import requests\n",
        "from io import BytesIO\n",
        "\n",
        "# This is a helper script to convert a 4 channel image to a 3 channel image\n",
        "def rgba2rgb( rgba, background=(255,255,255) ):\n",
        "    row, col, ch = rgba.shape\n",
        "\n",
        "    if ch == 3:\n",
        "        return rgba\n",
        "\n",
        "    print(\"we have 4 channels\")\n",
        "\n",
        "\n",
        "    assert ch == 4, 'RGBA image has 4 channels.'\n",
        "\n",
        "    rgb = np.zeros( (row, col, 3), dtype='float32' )\n",
        "    r, g, b, a = rgba[:,:,0], rgba[:,:,1], rgba[:,:,2], rgba[:,:,3]\n",
        "    \n",
        "    a = np.asarray( a, dtype='float32' ) / 255.0\n",
        "    \n",
        "    R, G, B = background\n",
        "    \n",
        "\n",
        "    #Make it grey-scale:\n",
        "    #rgb[:,:,0] = 0.33 * (r * a + (1.0 - a) * R) + 0.33 * g * a + (1.0 - a) * G + 0.33 * (b * a + (1.0 - a) * B)\n",
        "    #rgb[:,:,1] = 0.33 * (r * a + (1.0 - a) * R) + 0.33 * g * a + (1.0 - a) * G + 0.33 * (b * a + (1.0 - a) * B)\n",
        "    #rgb[:,:,2] = 0.33 * (r * a + (1.0 - a) * R) + 0.33 * g * a + (1.0 - a) * G + 0.33 * (b * a + (1.0 - a) * B)\n",
        "    #have the image be color:\n",
        "    rgb[:,:,0] = r * a  + (1.0-a) * R\n",
        "    rgb[:,:,1] = g * a + (1.0-a) * G\n",
        "    rgb[:,:,2] = b * a + (1.0-a) * B\n",
        "\n",
        "    return np.asarray( rgb, dtype='uint8' )\n",
        "\n",
        "#This is a helper script to display the resulting image from sv1 to sv2\n",
        "def svdn1n2( zeroBefore, zeroAfter, origImg) :\n",
        "    copyImg = origImg.copy()\n",
        "\n",
        "    r_image = copyImg[:, :, 0]\n",
        "    g_image = copyImg[:, :, 1]\n",
        "    b_image = copyImg[:, :, 2]\n",
        "    #a_image = copyImg[:, :, 3]\n",
        "\n",
        "    #plt.imshow(r_image, origin='upper')\n",
        "\n",
        "    Ur, sr, Vhr = linalg.svd(r_image)\n",
        "    Ur.shape, sr.shape, Vhr.shape\n",
        "    Mr,Nr = r_image.shape\n",
        "    Sigr = linalg.diagsvd(sr,Mr,Nr)\n",
        "\n",
        "    Ug, sg, Vhg = linalg.svd(g_image)\n",
        "    Ug.shape, sg.shape, Vhg.shape\n",
        "    Mg,Ng = g_image.shape\n",
        "    Sigg = linalg.diagsvd(sg,Mg,Ng)\n",
        "\n",
        "    Ub, sb, Vhb = linalg.svd(b_image)\n",
        "    Ub.shape, sb.shape, Vhb.shape\n",
        "    Mb,Nb = b_image.shape\n",
        "    Sigb = linalg.diagsvd(sb,Mb,Nb)\n",
        "\n",
        "    #Ua, sa, Vha = linalg.svd(a_image)\n",
        "    #Ua.shape, sa.shape, Vha.shape\n",
        "    #Ma,Na = a_image.shape\n",
        "    #Siga = linalg.diagsvd(sa,Ma,Na)\n",
        "\n",
        "\n",
        "\n",
        "    # make a copy of the matrix holding the singular values:\n",
        "    SSigr = Sigr.copy()\n",
        "    SSigg = Sigg.copy()\n",
        "    SSigb = Sigb.copy()\n",
        "    #SSiga = Siga.copy()\n",
        "\n",
        "    # Eliminate some of the singular values in the singular value matrix for color 0:\n",
        "    zeroEnd = min(SSigr.shape) - 1\n",
        "\n",
        "    for i in range(0,zeroBefore-1):\n",
        "        SSigr[i][i] = 0\n",
        "        SSigg[i][i] = 0\n",
        "        SSigb[i][i] = 0\n",
        "    #    SSiga[i][i] = 0\n",
        "\n",
        "    for i in range(zeroAfter,zeroEnd):\n",
        "        SSigr[i][i] = 0\n",
        "        SSigg[i][i] = 0\n",
        "        SSigb[i][i] = 0\n",
        "    #    SSiga[i][i] = 0\n",
        "\n",
        "    print(\"Singular values are \", SSigr.diagonal()[zeroBefore-1:zeroAfter])\n",
        "\n",
        "    newImg = copyImg.copy();\n",
        "    newImg.fill(255)\n",
        "    newImg[:,:,0] = Ur.dot(SSigr.dot(Vhr))\n",
        "    newImg[:,:,1] = Ug.dot(SSigg.dot(Vhg))\n",
        "    newImg[:,:,2] = Ub.dot(SSigb.dot(Vhb))\n",
        "    #keep this alpha so that the transparent parts show up white while working in colab:\n",
        "    #newImg[:,:,3] = a_image\n",
        "    #newImg[:,:,3] = Ua.dot(SSiga.dot(Vha))\n",
        "    \n",
        "    x = np.linspace(zeroBefore, zeroAfter, (zeroAfter-zeroBefore + 1))\n",
        "\n",
        "    return(newImg, x, SSigr, SSigg, SSigb)\n",
        "\n",
        "\n"
      ]
    },
    {
      "cell_type": "markdown",
      "source": [
        "# The structure of images, as matrices\n",
        "\n",
        "\n",
        "An image is essentially an $r \\times c$ matrix with $r$ rows and $c$ columns.  Each entry in the matrix contains information about the color of the pixel.  In the RGBA format of .png files, this information is a 4-tuple\n",
        "\n",
        "$$  [  R,  G,   B,  A ] $$\n",
        "\n",
        "where each of $R$, $G$, $B$, and $A$ is a value between 0 and 255.\n",
        "\n",
        "Play around with the impact of changing these values to determine what happens for each color:"
      ],
      "metadata": {
        "id": "8cBfwBRCOGuu"
      }
    },
    {
      "cell_type": "code",
      "source": [
        "row = 50\n",
        "col = 50\n",
        "rgba = np.zeros( (row, col, 4), dtype='uint8' )\n",
        "rgba[:] = [255, 0, 0, 255]\n",
        "\n",
        "#Uncomment to look at rgba as content:\n",
        "#rgba\n",
        "\n"
      ],
      "metadata": {
        "id": "dLXa2LCOP0_j"
      },
      "execution_count": null,
      "outputs": []
    },
    {
      "cell_type": "code",
      "source": [
        "#Adjust the entries in the 4-tuple:\n",
        "rgba[:] = [255, 0, 0, 255]\n",
        "#Look at rgba as an image:\n",
        "plt.imshow(rgba, origin='upper')\n",
        "plt.imshow(rgba, origin='upper')"
      ],
      "metadata": {
        "id": "7WN8JpPURHRU",
        "outputId": "00ba56b0-3ebc-4c81-97f0-17daf52e85b5",
        "colab": {
          "base_uri": "https://localhost:8080/",
          "height": 284
        }
      },
      "execution_count": null,
      "outputs": [
        {
          "output_type": "execute_result",
          "data": {
            "text/plain": [
              "<matplotlib.image.AxesImage at 0x7f56c3ee22d0>"
            ]
          },
          "metadata": {},
          "execution_count": 19
        },
        {
          "output_type": "display_data",
          "data": {
            "text/plain": [
              "<Figure size 432x288 with 1 Axes>"
            ],
            "image/png": "[encoded data removed]"
          },
          "metadata": {
            "needs_background": "light"
          }
        }
      ]
    },
    {
      "cell_type": "markdown",
      "source": [
        "#Questions:\n",
        "\n",
        "1)  Identify these colors:\n",
        "\n",
        "$[ 255, 0, 0, 255 ]$\n",
        "\n",
        "$[ 0, 255, 0, 255 ]$\n",
        "\n",
        "$[ 0, 0, 255, 255 ]$\n",
        "\n",
        "\n",
        "\n",
        "\n"
      ],
      "metadata": {
        "id": "yGnRios8Rj17"
      }
    },
    {
      "cell_type": "markdown",
      "source": [
        "2)  Vary $a$ between 0 and 255.  What happens to the color specified by $[ 255, 0, 0, a ]$ ?\n",
        "\n"
      ],
      "metadata": {
        "id": "FGbB3VNVTCeu"
      }
    },
    {
      "cell_type": "markdown",
      "source": [
        "\n",
        "3)  How do you think you would make purple or yellow?  Try it....\n",
        "\n",
        "\n",
        "\n",
        "\n"
      ],
      "metadata": {
        "id": "dUeYPVijTD-V"
      }
    },
    {
      "cell_type": "markdown",
      "source": [
        "4)  Identify these colors:\n",
        "\n",
        "$[ 255, 255, 0, 255 ]$\n",
        "\n",
        "$[ 255, 0, 255, 255 ]$\n",
        "\n",
        "$[ 0,  255, 255, 255 ]$\n",
        "\n",
        "$[ 255, 255, 255, 255 ]$"
      ],
      "metadata": {
        "id": "dDAjNz8HTFVV"
      }
    },
    {
      "cell_type": "markdown",
      "source": [
        "# Grab the pre-created images for this activity"
      ],
      "metadata": {
        "id": "PTkq6S_cTll-"
      }
    },
    {
      "cell_type": "code",
      "source": [
        "#  Grab the picture to analyze from github and save it in our directory.\n",
        "url1 = 'https://github.com/awangberg/Math311_Linear_algebra_code_projects/blob/master/image1_whitebg.png?raw=true'\n",
        "image1Request = requests.get(url1)\n",
        "image1 = Image.open(BytesIO(image1Request.content)).convert('RGB')\n",
        "imageio.imwrite(\"sample_data/image1.png\", np.array(image1))\n",
        "\n",
        "\n",
        "url2 = 'https://github.com/awangberg/Math311_Linear_algebra_code_projects/blob/master/image2_whitebg.png?raw=true'\n",
        "image2Request = requests.get(url2)\n",
        "image2 = Image.open(BytesIO(image2Request.content)).convert('RGB')\n",
        "imageio.imwrite(\"sample_data/image2.png\", np.array(image2))\n",
        "\n",
        "url3 = 'https://github.com/awangberg/Math311_Linear_algebra_code_projects/blob/master/image3_whitebg.png?raw=true'\n",
        "image3Request = requests.get(url3)\n",
        "image3 = Image.open(BytesIO(image3Request.content)).convert('RGB')\n",
        "imageio.imwrite(\"sample_data/image3.png\", np.array(image3))\n"
      ],
      "metadata": {
        "id": "WZjA9lb_GkKc"
      },
      "execution_count": null,
      "outputs": []
    },
    {
      "cell_type": "markdown",
      "source": [
        "##  Do the SVD on the image\n",
        "\n",
        "Grab an image.  Note the number of singular values available:"
      ],
      "metadata": {
        "id": "bn5PR5beLpx4"
      }
    },
    {
      "cell_type": "code",
      "source": [
        "#Make this work for image1 first:\n",
        "\n",
        "#Uncomment to specify the image we are using\n",
        "imagename = \"image3\"\n",
        "#imagename = \"image1\"\n",
        "#imagename = \"image2\"\n",
        "\n",
        "origImg = imageio.imread(\"sample_data/\" + imagename + \".png\")\n",
        "\n",
        "print(\"the shape of \", imagename, \" is \", origImg.shape)\n",
        "print(\"the type of the image is \", origImg.dtype)\n",
        "print(\"Number of Singular Values available are 1 -\", min(origImg.shape[0], origImg.shape[1]))"
      ],
      "metadata": {
        "colab": {
          "base_uri": "https://localhost:8080/"
        },
        "id": "O4o4UmvZL-4r",
        "outputId": "104f9294-3499-41df-a8f3-cd7a88110495"
      },
      "execution_count": null,
      "outputs": [
        {
          "output_type": "stream",
          "name": "stdout",
          "text": [
            "the shape of  image3  is  (111, 351, 3)\n",
            "the type of the image is  uint8\n",
            "Number of Singular Values available are 1 - 111\n"
          ]
        }
      ]
    },
    {
      "cell_type": "markdown",
      "source": [
        "## Make a plot using singular values from s_Start to s_end\n",
        "\n",
        "Using the data above, set:\n",
        "  * s_start = first singular value to use\n",
        "  * s_end = last singular value to use\n",
        "  * s_next = show impact of the next s_next singular values on a separate plot\n",
        "\n",
        "Our goal is to determine the number of singular values we need to understand the picture.  \n",
        "  *  In theory, we need *all* of them.\n",
        "  *  In Practice, how many do we actually need?"
      ],
      "metadata": {
        "id": "iY-SauBhtWXB"
      }
    },
    {
      "cell_type": "code",
      "source": [
        "#  Plot the images using s_start to s_end singular values:\n",
        "#  Be sure to start with \n",
        "s_start = 1\n",
        "s_end = 1\n",
        "\n",
        "#  We save the image, in case it is helpful for later.\n",
        "\n",
        "\n",
        "#  Everything below here is done automatically:\n",
        "s_next = s_end\n",
        "\n",
        "result = svdn1n2(s_start, s_end, origImg)\n",
        "\n",
        "img = result[0]\n",
        "x = result[1]\n",
        "redsigs = result[2]\n",
        "greensigs = result[3]\n",
        "bluesigs = result[4]\n",
        "\n",
        "plt.cla()\n",
        "\n",
        "plt.plot(x,redsigs.diagonal()[s_start-1:s_end], 'o', color='red');\n",
        "plt.plot(x,bluesigs.diagonal()[s_start-1:s_end], 'o', color='blue');\n",
        "plt.plot(x,greensigs.diagonal()[s_start-1:s_end], 'o', color='green');\n",
        "\n",
        "plt.show()\n",
        "\n",
        "print(\"Can you recognize this image using Singular Values \", s_start, \" to \", s_end, \"?\")\n",
        "\n",
        "imgwhite = img.copy()\n",
        "imgwhite[:] = [255, 255, 255]\n",
        "plt.imshow(imgwhite, origin='upper')\n",
        "plt.imshow(img, origin='upper')\n",
        "\n",
        "plt.show()\n",
        "\n",
        "#save the image file where s_start and s_end refers to the\n",
        "# singular values you're using for this image.\n",
        "filename = imagename + '_s_' + str(s_start) + '_to_' + str(s_end) + '.png'\n",
        "imageio.imwrite(filename, img)\n",
        "\n",
        "\n",
        "\n",
        "#plt.cla()\n",
        "\n",
        "#next = svdn1n2(s_end+1, (s_end + s_next), origImg)\n",
        "#imgnext = next[0]\n",
        "#nextx = next[1]\n",
        "#nextredsigs = next[2]\n",
        "#nextgreensigs = next[3]\n",
        "#nextbluesigs = next[4]\n",
        "\n",
        "#print(\"The next \", s_next , \" Singular Values would add this to the image:\")\n",
        "#imgnextwhite = imgnext.copy()\n",
        "#imgnextwhite[:] = [255, 255, 255]\n",
        "#plt.imshow(imgnextwhite, origin='upper')\n",
        "#plt.imshow(imgnext, origin='upper')\n",
        "#\n",
        "#plt.show()\n",
        "#filename = imagename + '_s_' + str(s_start) + '_to_' + str(s_end) + '_next_' + str(s_next) + '_sing_values.png'\n",
        "#imageio.imwrite(filename, imgnext) #create the image file where nnn refers to the singular values you're using for this image.\n",
        "\n",
        "\n"
      ],
      "metadata": {
        "colab": {
          "base_uri": "https://localhost:8080/",
          "height": 440
        },
        "id": "wZ36tPI-RsaZ",
        "outputId": "7bbe131c-a516-4cb8-a4ca-7ad08b5af2a5"
      },
      "execution_count": null,
      "outputs": [
        {
          "output_type": "stream",
          "name": "stdout",
          "text": [
            "Singular values are  [42110.9]\n"
          ]
        },
        {
          "output_type": "display_data",
          "data": {
            "text/plain": [
              "<Figure size 432x288 with 1 Axes>"
            ],
            "image/png": "[encoded data removed]"
          },
          "metadata": {
            "needs_background": "light"
          }
        },
        {
          "output_type": "stream",
          "name": "stdout",
          "text": [
            "Can you recognize this image using Singular Values  1  to  1 ?\n"
          ]
        },
        {
          "output_type": "display_data",
          "data": {
            "text/plain": [
              "<Figure size 432x288 with 1 Axes>"
            ],
            "image/png": "[encoded data removed]"
          },
          "metadata": {
            "needs_background": "light"
          }
        }
      ]
    },
    {
      "cell_type": "code",
      "source": [
        ""
      ],
      "metadata": {
        "id": "aor1U0_y8itE"
      },
      "execution_count": null,
      "outputs": []
    },
    {
      "cell_type": "markdown",
      "source": [
        "# Questions:\n",
        "\n",
        "Answer these questions for each of image1, image2, and image3"
      ],
      "metadata": {
        "id": "1Fh0h9LuET9w"
      }
    },
    {
      "cell_type": "markdown",
      "source": [
        "## Image 1:\n",
        "\n",
        "  a)  What was the size of the image (rows and columns), and what was the maximum number of singular values for that image?\n",
        "\n",
        "  b)  When could you first determine the image, in terms of the number of singular values?   \n",
        "  \n",
        "  c)  What was it?"
      ],
      "metadata": {
        "id": "7KbhJ-JdEfPu"
      }
    },
    {
      "cell_type": "markdown",
      "source": [
        "## Image 2:\n",
        "\n",
        "  a)  What was the size of the image (rows and columns), and what was the maximum number of singular values for that image?\n",
        "\n",
        "  b)  When could you first determine the image, in terms of the number of singular values?   \n",
        "  \n",
        "  c)  What was it?"
      ],
      "metadata": {
        "id": "OK6bWyxeFCn3"
      }
    },
    {
      "cell_type": "markdown",
      "source": [
        "## Image 3:\n",
        "\n",
        "  a)  What was the size of the image (rows and columns), and what was the maximum number of singular values for that image?\n",
        "\n",
        "  b)  When could you first determine the image, in terms of the number of singular values?   \n",
        "  \n",
        "  c)  What was it?"
      ],
      "metadata": {
        "id": "9EqAtNHNFEL1"
      }
    },
    {
      "cell_type": "markdown",
      "source": [
        "## Overall Questions:\n",
        "\n",
        "\n",
        "d)  Which singular values had the biggest impact on the image?\n",
        "\n",
        "\n",
        "\n",
        "e)  What was the overall effect of including more singular values in the image?\n",
        "\n",
        "\n",
        "\n"
      ],
      "metadata": {
        "id": "R3b2IHLQFGEC"
      }
    }
  ]
}
