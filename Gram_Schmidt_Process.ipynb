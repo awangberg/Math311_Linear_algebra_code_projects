{
  "nbformat": 4,
  "nbformat_minor": 0,
  "metadata": {
    "colab": {
      "name": "Gram Schmidt Process.ipynb",
      "provenance": [],
      "authorship_tag": "ABX9TyPnzadcLEO+fZVqGDL4SlYX",
      "include_colab_link": true
    },
    "kernelspec": {
      "name": "python3",
      "display_name": "Python 3"
    },
    "language_info": {
      "name": "python"
    }
  },
  "cells": [
    {
      "cell_type": "markdown",
      "metadata": {
        "id": "view-in-github",
        "colab_type": "text"
      },
      "source": [
        "<a href=\"https://colab.research.google.com/github/awangberg/Math242_Linear_algebra_code_projects/blob/master/Gram_Schmidt_Process.ipynb\" target=\"_parent\"><img src=\"https://colab.research.google.com/assets/colab-badge.svg\" alt=\"Open In Colab\"/></a>"
      ]
    },
    {
      "cell_type": "code",
      "metadata": {
        "id": "x5WYw6M5z9OZ"
      },
      "source": [
        "import matplotlib.pyplot as plt\n",
        "from sympy import Poly\n",
        "import sympy as sym\n",
        "import numpy as np\n",
        "from numpy import c_\n",
        "\n",
        "# We'll specify that x and t are variables:\n",
        "x, t = sym.symbols('x, t')\n",
        "\n",
        "ll = \"loaded\""
      ],
      "execution_count": 1,
      "outputs": []
    },
    {
      "cell_type": "code",
      "metadata": {
        "colab": {
          "base_uri": "https://localhost:8080/"
        },
        "id": "SjP2Efex0mQR",
        "outputId": "1bc4d5a3-45a5-4ff2-daed-4f09a9da243a"
      },
      "source": [
        "#  Create a vector:\n",
        "r = np.matrix('1; 2; 3; 4')\n",
        "r"
      ],
      "execution_count": 5,
      "outputs": [
        {
          "output_type": "execute_result",
          "data": {
            "text/plain": [
              "matrix([[1],\n",
              "        [2],\n",
              "        [3],\n",
              "        [4]])"
            ]
          },
          "metadata": {},
          "execution_count": 5
        }
      ]
    },
    {
      "cell_type": "code",
      "metadata": {
        "colab": {
          "base_uri": "https://localhost:8080/",
          "height": 166
        },
        "id": "Tbo78zDo1G0w",
        "outputId": "54b728ea-454a-45a4-cd3d-8d668fc90803"
      },
      "source": [
        "r.dot()"
      ],
      "execution_count": 6,
      "outputs": [
        {
          "output_type": "error",
          "ename": "ValueError",
          "evalue": "ignored",
          "traceback": [
            "\u001b[0;31m---------------------------------------------------------------------------\u001b[0m",
            "\u001b[0;31mValueError\u001b[0m                                Traceback (most recent call last)",
            "\u001b[0;32m<ipython-input-6-8c7c01da82d3>\u001b[0m in \u001b[0;36m<module>\u001b[0;34m()\u001b[0m\n\u001b[0;32m----> 1\u001b[0;31m \u001b[0mr\u001b[0m\u001b[0;34m.\u001b[0m\u001b[0mdot\u001b[0m\u001b[0;34m(\u001b[0m\u001b[0mr\u001b[0m\u001b[0;34m)\u001b[0m\u001b[0;34m\u001b[0m\u001b[0;34m\u001b[0m\u001b[0m\n\u001b[0m",
            "\u001b[0;31mValueError\u001b[0m: shapes (4,1) and (4,1) not aligned: 1 (dim 1) != 4 (dim 0)"
          ]
        }
      ]
    },
    {
      "cell_type": "code",
      "metadata": {
        "colab": {
          "base_uri": "https://localhost:8080/"
        },
        "id": "E_7lWvpA1z61",
        "outputId": "c35c784f-5830-4375-b60f-a887524dfd94"
      },
      "source": [
        "# create a vector as an array:\n",
        "s = np.array([ 1, 2, 3, 4])\n",
        "s"
      ],
      "execution_count": 8,
      "outputs": [
        {
          "output_type": "execute_result",
          "data": {
            "text/plain": [
              "array([1, 2, 3, 4])"
            ]
          },
          "metadata": {},
          "execution_count": 8
        }
      ]
    },
    {
      "cell_type": "code",
      "metadata": {
        "colab": {
          "base_uri": "https://localhost:8080/"
        },
        "id": "S3bcnzOI2Yeu",
        "outputId": "5a475b10-63de-4696-f6d0-192965af6241"
      },
      "source": [
        "#do a dot product:\n",
        "s.dot(s)"
      ],
      "execution_count": 9,
      "outputs": [
        {
          "output_type": "execute_result",
          "data": {
            "text/plain": [
              "30"
            ]
          },
          "metadata": {},
          "execution_count": 9
        }
      ]
    },
    {
      "cell_type": "code",
      "metadata": {
        "colab": {
          "base_uri": "https://localhost:8080/"
        },
        "id": "Asg4gPzx2gKZ",
        "outputId": "93c731c9-c2da-4f0d-d4d9-49412c734b31"
      },
      "source": [
        "# the size of s:\n",
        "np.sqrt(s.dot(s))"
      ],
      "execution_count": 13,
      "outputs": [
        {
          "output_type": "execute_result",
          "data": {
            "text/plain": [
              "5.477225575051661"
            ]
          },
          "metadata": {},
          "execution_count": 13
        }
      ]
    },
    {
      "cell_type": "code",
      "metadata": {
        "id": "ptE-z3722vZp"
      },
      "source": [
        ""
      ],
      "execution_count": null,
      "outputs": []
    },
    {
      "cell_type": "markdown",
      "metadata": {
        "id": "886nJ1RM3UhF"
      },
      "source": [
        "Using the Gram-Scmidt Orthonormalization Process\n"
      ]
    },
    {
      "cell_type": "code",
      "metadata": {
        "colab": {
          "base_uri": "https://localhost:8080/"
        },
        "id": "fYpxcvKK3b5K",
        "outputId": "e816bd69-ea09-4e1f-82e3-e3a11b7d0bd3"
      },
      "source": [
        "# the messy vectors:\n",
        "r1 = np.array([  2, 4, 0, 0 ])\n",
        "r2 = np.array([  1, 2, 3, 6 ])\n",
        "r3 = np.array([  2, -1, 2, -1])\n",
        "r4 = np.array([  1, 2,  3, 4])\n",
        "r4"
      ],
      "execution_count": 22,
      "outputs": [
        {
          "output_type": "execute_result",
          "data": {
            "text/plain": [
              "array([1, 2, 3, 4])"
            ]
          },
          "metadata": {},
          "execution_count": 22
        }
      ]
    },
    {
      "cell_type": "code",
      "metadata": {
        "colab": {
          "base_uri": "https://localhost:8080/"
        },
        "id": "5Y74Fg1o3mCC",
        "outputId": "c948128f-8b09-4e0a-df6d-e348087c535f"
      },
      "source": [
        "#   Find the first nice basis vector:\n",
        "t1 = r1\n",
        "#   Subtract off the nice basis vectors:\n",
        "#   Nothing yet!\n",
        "\n",
        "#  Find the magnitude of t1:\n",
        "n1 = np.sqrt(t1.dot(t1))\n",
        "\n",
        "#  So, u1 = (1/n1) * t1\n",
        "u1 = (1/n1) * t1\n",
        "u1"
      ],
      "execution_count": 30,
      "outputs": [
        {
          "output_type": "execute_result",
          "data": {
            "text/plain": [
              "array([0.4472136 , 0.89442719, 0.        , 0.        ])"
            ]
          },
          "metadata": {},
          "execution_count": 30
        }
      ]
    },
    {
      "cell_type": "code",
      "metadata": {
        "colab": {
          "base_uri": "https://localhost:8080/"
        },
        "id": "t7J7yxlr4Kul",
        "outputId": "bcbb47d1-c624-4c45-b2d1-4f37b81e9667"
      },
      "source": [
        "# Verify that u1 has size 1 and is orthogonal to all other u vectors:\n",
        "\n",
        "u1.dot(u1)"
      ],
      "execution_count": 31,
      "outputs": [
        {
          "output_type": "execute_result",
          "data": {
            "text/plain": [
              "0.9999999999999999"
            ]
          },
          "metadata": {},
          "execution_count": 31
        }
      ]
    },
    {
      "cell_type": "code",
      "metadata": {
        "colab": {
          "base_uri": "https://localhost:8080/"
        },
        "id": "_LRoaZWj5JhK",
        "outputId": "c5172e0e-9ced-4e0d-fc3a-5586112a9074"
      },
      "source": [
        "#   Find the second nice basis vector:\n",
        "r2\n",
        "#   Subtract off the nice basis vectors:\n",
        "t2 = r2 - r2.dot(u1)   * u1\n",
        "t2\n",
        "\n",
        "##  Find the magnitude of t1:\n",
        "n2 = np.sqrt(t2.dot(t2))\n",
        "n2\n",
        "\n",
        "##  So, u2 = (1/n2) * t2\n",
        "u2 = (1/n2) * t2\n",
        "u2"
      ],
      "execution_count": 35,
      "outputs": [
        {
          "output_type": "execute_result",
          "data": {
            "text/plain": [
              "array([0.        , 0.        , 0.4472136 , 0.89442719])"
            ]
          },
          "metadata": {},
          "execution_count": 35
        }
      ]
    },
    {
      "cell_type": "code",
      "metadata": {
        "colab": {
          "base_uri": "https://localhost:8080/"
        },
        "id": "Mv68ktqr53yF",
        "outputId": "49a85794-71c9-43c4-b729-3f68c200426f"
      },
      "source": [
        "#Check\n",
        "print(\"The (squared) size of u2 = \", u2.dot(u2))\n",
        "print(\"u2.u1 = \", u2.dot(u1))"
      ],
      "execution_count": 39,
      "outputs": [
        {
          "output_type": "stream",
          "name": "stdout",
          "text": [
            "The (squared) size of u2 =      1.0000000000000002\n",
            "u2.u1 =  0.0\n"
          ]
        }
      ]
    },
    {
      "cell_type": "code",
      "metadata": {
        "colab": {
          "base_uri": "https://localhost:8080/"
        },
        "id": "lZ4WDkby6fCs",
        "outputId": "9fa3f2e9-6a3e-49c5-a88e-093f5deed5d9"
      },
      "source": [
        "#   Find the third nice basis vector:\n",
        "r3\n",
        "#   Subtract off the nice basis vectors:\n",
        "t3 = r3 - r3.dot(u1)   * u1   -  r3.dot(u2)  * u2\n",
        "t3\n",
        "\n",
        "##  Find the magnitude of t3:\n",
        "n3 = np.sqrt(t3.dot(t3))\n",
        "n3\n",
        "\n",
        "##  So, u3 = (1/n3) * t3\n",
        "u3 = (1/n3) * t3\n",
        "u3"
      ],
      "execution_count": 40,
      "outputs": [
        {
          "output_type": "execute_result",
          "data": {
            "text/plain": [
              "array([ 0.63245553, -0.31622777,  0.63245553, -0.31622777])"
            ]
          },
          "metadata": {},
          "execution_count": 40
        }
      ]
    },
    {
      "cell_type": "code",
      "metadata": {
        "colab": {
          "base_uri": "https://localhost:8080/"
        },
        "id": "cBBVyyeH7six",
        "outputId": "43842908-2146-4dbb-b26f-ff91c3bcc1c8"
      },
      "source": [
        "#Check\n",
        "print(\"The (squared) size of u3 = \", u3.dot(u3))\n",
        "print(\"u3.u1 = \", u3.dot(u1))\n",
        "print(\"u3.u2 = \", u3.dot(u2))"
      ],
      "execution_count": 41,
      "outputs": [
        {
          "output_type": "stream",
          "name": "stdout",
          "text": [
            "The (squared) size of u3 =  1.0\n",
            "u3.u1 =  -2.6816343567205363e-18\n",
            "u3.u2 =  1.772118218877028e-17\n"
          ]
        }
      ]
    },
    {
      "cell_type": "code",
      "metadata": {
        "colab": {
          "base_uri": "https://localhost:8080/"
        },
        "id": "lno7xxve795X",
        "outputId": "bca219bf-9967-451b-c914-05c64389085f"
      },
      "source": [
        "#  Check that u3 = [ 2/sqrt(10), -1/sqrt(10), 2/sqrt(10), -1/sqrt(10)]\n",
        "np.sqrt(10)*u3"
      ],
      "execution_count": 43,
      "outputs": [
        {
          "output_type": "execute_result",
          "data": {
            "text/plain": [
              "array([ 2., -1.,  2., -1.])"
            ]
          },
          "metadata": {},
          "execution_count": 43
        }
      ]
    },
    {
      "cell_type": "code",
      "metadata": {
        "id": "0D0m8b7y8hpX"
      },
      "source": [
        ""
      ],
      "execution_count": null,
      "outputs": []
    }
  ]
}