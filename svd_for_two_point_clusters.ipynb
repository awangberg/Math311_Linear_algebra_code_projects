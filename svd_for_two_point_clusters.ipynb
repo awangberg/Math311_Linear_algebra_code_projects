{
  "nbformat": 4,
  "nbformat_minor": 0,
  "metadata": {
    "colab": {
      "name": "svd for two point clusters.ipynb",
      "provenance": [],
      "authorship_tag": "ABX9TyPL4YYCYZ7xaGrW+nuIeGaP",
      "include_colab_link": true
    },
    "kernelspec": {
      "name": "python3",
      "display_name": "Python 3"
    },
    "language_info": {
      "name": "python"
    }
  },
  "cells": [
    {
      "cell_type": "markdown",
      "metadata": {
        "id": "view-in-github",
        "colab_type": "text"
      },
      "source": [
        "<a href=\"https://colab.research.google.com/github/awangberg/Math242_Linear_algebra_code_projects/blob/master/svd_for_two_point_clusters.ipynb\" target=\"_parent\"><img src=\"https://colab.research.google.com/assets/colab-badge.svg\" alt=\"Open In Colab\"/></a>"
      ]
    },
    {
      "cell_type": "code",
      "metadata": {
        "id": "o1I05ylUfPl4"
      },
      "source": [
        "import matplotlib.pyplot as plt\n",
        "from sympy import Poly\n",
        "import sympy as sym\n",
        "import numpy as np\n",
        "from numpy import c_\n",
        "\n",
        "# We'll specify that x and t are variables:\n",
        "x, t = sym.symbols('x, t')\n",
        "\n",
        "ll = \"loaded\""
      ],
      "execution_count": null,
      "outputs": []
    },
    {
      "cell_type": "code",
      "metadata": {
        "colab": {
          "base_uri": "https://localhost:8080/"
        },
        "id": "LuIx2eJmfRw2",
        "outputId": "935bdbe6-39e7-499d-aebf-bb63bf72806d"
      },
      "source": [
        "#Let's create 10 points, centered around (3, 1) and (-1, 0)\n",
        "#  (3, 1)\n",
        "#  (3.25, 1.25)\n",
        "#  (3.25, 0.75)\n",
        "#  (2.75, 1.25)\n",
        "#  (2.75, 0.75)\n",
        "#  (-1, 0)\n",
        "#  (-1.25, 0.25)\n",
        "#  (-1.25, -0.25)\n",
        "#  (-.75, 0.25)\n",
        "#  (-0.75, -0.25)\n",
        "\n",
        "#  We'll find the best-fit line y = b + mx.  Or\n",
        "#  we can use:   b + mx - y = 0\n",
        "#  So, the matrix involves rows of [ 1  x  -y ] entries.\n",
        "\n",
        "M = np.matrix([[ 1, 3, -1],\n",
        "               [ 1, 3.25, -1.25 ],\n",
        "               [ 1, 3.25, -0.75 ],\n",
        "               [ 1, 2.75, -1.25 ],\n",
        "               [ 1, 2.75, -0.75],\n",
        "               [ 1, -1, 0 ],\n",
        "               [ 1, -1.25, -0.25],\n",
        "               [ 1, -1.25, 0.25], \n",
        "               [ 1, -.75, -0.25],\n",
        "               [ 1, -0.75, 0.25] ])\n",
        "\n",
        "M"
      ],
      "execution_count": null,
      "outputs": [
        {
          "output_type": "execute_result",
          "data": {
            "text/plain": [
              "matrix([[ 1.  ,  3.  , -1.  ],\n",
              "        [ 1.  ,  3.25, -1.25],\n",
              "        [ 1.  ,  3.25, -0.75],\n",
              "        [ 1.  ,  2.75, -1.25],\n",
              "        [ 1.  ,  2.75, -0.75],\n",
              "        [ 1.  , -1.  ,  0.  ],\n",
              "        [ 1.  , -1.25, -0.25],\n",
              "        [ 1.  , -1.25,  0.25],\n",
              "        [ 1.  , -0.75, -0.25],\n",
              "        [ 1.  , -0.75,  0.25]])"
            ]
          },
          "metadata": {},
          "execution_count": 2
        }
      ]
    },
    {
      "cell_type": "code",
      "metadata": {
        "colab": {
          "base_uri": "https://localhost:8080/"
        },
        "id": "3WoRbl3tgwff",
        "outputId": "3081d344-3821-4452-ac31-eb8c083e1d3b"
      },
      "source": [
        "M = np.matrix([[ 3 - 2, 1 - .5],\n",
        "               [ 3.25 -2 , 1.25 - .5 ],\n",
        "               [ 3.25 - 2, 0.75  - .5],\n",
        "               [ 2.75 - 2, 1.25  - .5],\n",
        "               [ 2.75 - 2, 0.75  - .5],\n",
        "               [ -1 - 2, 0  - .5],\n",
        "               [ -1.25 - 2, 0.25  - .5],\n",
        "               [ -1.25 - 2, 0.25  - .5], \n",
        "               [ -.75 - 2, 0.25  - .5],\n",
        "               [ -0.75 - 2, 0.25  - .5] ])\n",
        "\n",
        "MM = M.transpose() * M\n",
        "\n",
        "MM\n",
        "\n",
        "M = np.matrix([[ 3, 1], [ -1, 0]])\n",
        "MM = M.transpose() * M\n",
        "\n",
        "MM\n"
      ],
      "execution_count": null,
      "outputs": [
        {
          "output_type": "execute_result",
          "data": {
            "text/plain": [
              "matrix([[10,  3],\n",
              "        [ 3,  1]])"
            ]
          },
          "metadata": {},
          "execution_count": 17
        }
      ]
    },
    {
      "cell_type": "code",
      "metadata": {
        "colab": {
          "base_uri": "https://localhost:8080/"
        },
        "id": "NFMfdVQAg2IG",
        "outputId": "07ceca18-5cd2-4dfb-d14c-d5d4a085de28"
      },
      "source": [
        "np.linalg.eig(MM)"
      ],
      "execution_count": null,
      "outputs": [
        {
          "output_type": "execute_result",
          "data": {
            "text/plain": [
              "(array([10.90832691,  0.09167309]), matrix([[ 0.95709203, -0.28978415],\n",
              "         [ 0.28978415,  0.95709203]]))"
            ]
          },
          "metadata": {},
          "execution_count": 18
        }
      ]
    },
    {
      "cell_type": "code",
      "metadata": {
        "colab": {
          "base_uri": "https://localhost:8080/"
        },
        "id": "L3zZO64ThZh2",
        "outputId": "3fa7ecf4-1f63-4235-8847-1cdee2e9030b"
      },
      "source": [
        "np.linalg.svd(M)"
      ],
      "execution_count": null,
      "outputs": [
        {
          "output_type": "execute_result",
          "data": {
            "text/plain": [
              "(matrix([[-0.95709203,  0.28978415],\n",
              "         [ 0.28978415,  0.95709203]]),\n",
              " array([3.30277564, 0.30277564]),\n",
              " matrix([[-0.95709203, -0.28978415],\n",
              "         [-0.28978415,  0.95709203]]))"
            ]
          },
          "metadata": {},
          "execution_count": 19
        }
      ]
    },
    {
      "cell_type": "code",
      "metadata": {
        "id": "nl94DgAZiGDg"
      },
      "source": [
        ""
      ],
      "execution_count": null,
      "outputs": []
    }
  ]
}