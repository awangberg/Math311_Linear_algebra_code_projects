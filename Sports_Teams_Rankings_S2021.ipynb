{
  "nbformat": 4,
  "nbformat_minor": 0,
  "metadata": {
    "colab": {
      "name": "Sports Teams Rankings.ipynb",
      "provenance": [],
      "include_colab_link": true
    },
    "kernelspec": {
      "name": "python3",
      "display_name": "Python 3"
    }
  },
  "cells": [
    {
      "cell_type": "markdown",
      "metadata": {
        "id": "view-in-github",
        "colab_type": "text"
      },
      "source": [
        "<a href=\"https://colab.research.google.com/github/awangberg/Math242_Linear_algebra_code_projects/blob/master/Sports_Teams_Rankings_S2021.ipynb\" target=\"_parent\"><img src=\"https://colab.research.google.com/assets/colab-badge.svg\" alt=\"Open In Colab\"/></a>"
      ]
    },
    {
      "cell_type": "markdown",
      "metadata": {
        "id": "TwGBRAD9R6W4"
      },
      "source": [
        "# Load the preliminary code"
      ]
    },
    {
      "cell_type": "code",
      "metadata": {
        "id": "NaP8xyCfRrUg"
      },
      "source": [
        "import matplotlib.pyplot as plt\n",
        "from sympy import Poly\n",
        "import sympy as sym\n",
        "import numpy as np\n",
        "from numpy import c_\n",
        "\n",
        "# We'll specify that x and t are variables:\n",
        "x, t = sym.symbols('x, t')\n",
        "\n",
        "ll = \"loaded\""
      ],
      "execution_count": 2,
      "outputs": []
    },
    {
      "cell_type": "code",
      "metadata": {
        "id": "CANB9fuMRyBP",
        "colab": {
          "base_uri": "https://localhost:8080/"
        },
        "outputId": "a06d5a3e-96f6-4767-ed5f-cfbf182a78d8"
      },
      "source": [
        "lll = \" correctly!\"\n",
        "\n",
        "def rref(matrix):\n",
        "    A = np.array(matrix, dtype=np.float64)\n",
        "    \n",
        "    r = 0 #row\n",
        "    c = 0 #column\n",
        "\n",
        "    (maxr, maxc) = A.shape\n",
        "\n",
        "    prev_row_pivot = -1   # The previous row with a leading term:\n",
        "    tmp_pivot_row = -1\n",
        "    this_pivot_row = -1\n",
        "\n",
        "    for c in range(maxc):  # go through each column\n",
        "      tmp_pivot_row = -1  # reset the tmp pivot row\n",
        "      this_pivot_row = -1  # reset this pivot row\n",
        "      for r in range(maxr):  # Find the leading term in this column below prev_row_pivot\n",
        "        if ((r > prev_row_pivot) and (A[r][c] != 0.0)):\n",
        "          tmp_pivot_row = r  # find the new pivot row\n",
        "      if (tmp_pivot_row > -1):  # we found a candidate for the leading term:\n",
        "        #swap row this_pivot_row with (prev_row_pivot + 1)\n",
        "        A[[tmp_pivot_row, prev_row_pivot+1]] = A[[prev_row_pivot + 1, tmp_pivot_row]]\n",
        "        #set this_pivot_row to prev_row_pivot+1\n",
        "        this_pivot_row = prev_row_pivot + 1\n",
        "        #Now, normalize the row based on the pivot value:\n",
        "        A[ this_pivot_row ] = A[ this_pivot_row ] / A[ this_pivot_row ][c]\n",
        "        #Then, use this row to force 0's above and below the pivot entry:\n",
        "        #subtract multiples of of the this_pivot_row row from the others\n",
        "        for r_ in range(len(A)):\n",
        "            if r_ != this_pivot_row:\n",
        "                A[r_] = A[r_] - A[this_pivot_row] * A[r_][c] / A[this_pivot_row][c]\n",
        "        prev_row_pivot = this_pivot_row\n",
        "    return A   \n",
        "\n",
        "\n",
        "def is_singular(matrix):\n",
        "  singular = True\n",
        "  notsingular = False\n",
        "\n",
        "  (mr, mc) = matrix.shape\n",
        "  \n",
        "  return_value = notsingular\n",
        "  if (mc - np.linalg.linalg.matrix_rank(matrix) > 0) :\n",
        "    return_value = singular\n",
        "  return return_value\n",
        " \n",
        "    \n",
        "    \n",
        "\n",
        "print(\">> The page \", ll, lll)"
      ],
      "execution_count": 3,
      "outputs": [
        {
          "output_type": "stream",
          "text": [
            ">> The page  loaded  correctly!\n"
          ],
          "name": "stdout"
        }
      ]
    },
    {
      "cell_type": "markdown",
      "metadata": {
        "id": "dCB31bhvTulU"
      },
      "source": [
        "# Ranking Teams based on games\n",
        "\n",
        "From our packet, we saw there were five games:\n",
        "\n",
        "Home  | Away\n",
        "------|------\n",
        "Winona State 16 | Sioux Falls 15\n",
        "Winona State 34 | Augustana 20\n",
        "Sioux Falls 51  | Augustana 13\n",
        "Duluth 28       |  Augustana 17\n",
        "Winona State 17 | Duluth 37\n",
        "\n",
        "Let's encode this system into a matrix.\n",
        "\n",
        "The unknown rankings are $r_w, r_s, r_a, r_d$.\n",
        "\n",
        "The system looks like $M \\vec{x} = \\vec{b}$, or\n",
        "\n",
        "$$\n",
        "\\left( \\begin{array}{cccc} 1 & -1 & 0 & 0 \\\\ 1 & 0 & -1 & 0 \\\\ 0 & 1 & -1 & 0 \\\\ 0 & 0 & -1 & 1 \\\\ -1 & 0  & 0 & 1 \\\\ \\end{array} \\right) \\, \\left( \\begin{array}{c} r_w \\\\ r_s \\\\ r_a \\\\ r_d \\\\ \\end{array} \\right) = \\left( \\begin{array}{c} 1 \\\\ 14 \\\\ 38 \\\\ 11 \\\\ 20 \\\\ \\end{array} \\right)$$\n",
        "\n",
        "We'll solve this system using least squares \n",
        "$$M^T I M \\vec{x} = M^T I \\vec{b} $$\n",
        "\n",
        "$$ \\vec{x} = \\left( M^T I M  \\right)^{-1} M^T I \\vec{b} $$\n",
        "\n",
        "\n",
        "\n",
        "\n"
      ]
    },
    {
      "cell_type": "code",
      "metadata": {
        "id": "zZOH_e5mViMs",
        "colab": {
          "base_uri": "https://localhost:8080/"
        },
        "outputId": "916ed2d4-a8fc-4873-c6fe-4d1c1cccb2e4"
      },
      "source": [
        "# create the matrix:\n",
        "M = np.matrix([[1, -1, 0, 0],\n",
        "               [1, 0, -1, 0],\n",
        "               [0, 1, -1, 0],\n",
        "               [0, 0, -1, 1],\n",
        "               [-1, 0, 0, 1]])\n",
        "\n",
        "\n",
        "# create the vector for the right hand side:\n",
        "pts = np.matrix([[1], [14], [38], [11], [20]])\n",
        " \n",
        "#Make sure the system looks appropriate:\n",
        "print(np.c_[M,pts])"
      ],
      "execution_count": 4,
      "outputs": [
        {
          "output_type": "stream",
          "text": [
            "[[ 1 -1  0  0  1]\n",
            " [ 1  0 -1  0 14]\n",
            " [ 0  1 -1  0 38]\n",
            " [ 0  0 -1  1 11]\n",
            " [-1  0  0  1 20]]\n"
          ],
          "name": "stdout"
        }
      ]
    },
    {
      "cell_type": "code",
      "metadata": {
        "id": "s_r-ljCGWB18",
        "colab": {
          "base_uri": "https://localhost:8080/"
        },
        "outputId": "a99f3254-1a98-459b-9566-94da867f88eb"
      },
      "source": [
        "# Generate the transpose of M:\n",
        "MT = M.transpose()\n",
        "\n",
        "print(\"The Transpose of M is:\")\n",
        "print(MT)\n",
        "\n",
        "# and find MT*M and MT*pts:\n",
        "print(\"\\n\")\n",
        "print(\"MT * M is: \")\n",
        "MTM = MT * M\n",
        "print(MTM)\n",
        "\n",
        "print(\"\\n\")\n",
        "print(\"MT * pts is:\")\n",
        "MTpts = MT * pts\n",
        "print(MTpts)\n"
      ],
      "execution_count": 5,
      "outputs": [
        {
          "output_type": "stream",
          "text": [
            "The Transpose of M is:\n",
            "[[ 1  1  0  0 -1]\n",
            " [-1  0  1  0  0]\n",
            " [ 0 -1 -1 -1  0]\n",
            " [ 0  0  0  1  1]]\n",
            "\n",
            "\n",
            "MT * M is: \n",
            "[[ 3 -1 -1 -1]\n",
            " [-1  2 -1  0]\n",
            " [-1 -1  3 -1]\n",
            " [-1  0 -1  2]]\n",
            "\n",
            "\n",
            "MT * pts is:\n",
            "[[ -5]\n",
            " [ 37]\n",
            " [-63]\n",
            " [ 31]]\n"
          ],
          "name": "stdout"
        }
      ]
    },
    {
      "cell_type": "markdown",
      "metadata": {
        "id": "x38H0uPwbhpF"
      },
      "source": [
        "If $M^T M$ has an inverse, then we can use it.  But, if $M^T M$ is singular, then it doesn't have an inverse.  In this situation, we need to replace every entry in one row (say the bottom row) of $M^T M$ and $M^T \\vec{pts}$ with 1's.  (This knocks the system out of *not* having an inverse, so it will now have an inverse.)"
      ]
    },
    {
      "cell_type": "code",
      "metadata": {
        "id": "1ebWW4rZaopa",
        "colab": {
          "base_uri": "https://localhost:8080/"
        },
        "outputId": "4e1efd99-3795-4864-cdae-3f39af56a88f"
      },
      "source": [
        "#  Check if MTM is singular\n",
        "is_singular(MT*M)"
      ],
      "execution_count": 6,
      "outputs": [
        {
          "output_type": "execute_result",
          "data": {
            "text/plain": [
              "True"
            ]
          },
          "metadata": {
            "tags": []
          },
          "execution_count": 6
        }
      ]
    },
    {
      "cell_type": "code",
      "metadata": {
        "id": "Hs_ZR78AbziT",
        "colab": {
          "base_uri": "https://localhost:8080/"
        },
        "outputId": "14c2c6a4-f02c-4129-9aca-339f72604998"
      },
      "source": [
        "# If MTM is singular, then adjust one row of MTM and MT pts to be just 1's:\n",
        "\n",
        "#MTM[3] is the entire 4th row of MTM, \n",
        "#so MTM[3] = 1 will put 1's in MTM's 4th row.\n",
        "\n",
        "MTM[3] = 1\n",
        "MTpts[3] = 1\n",
        "\n",
        "print(\"MTM is now: \")\n",
        "print(MTM)\n",
        "\n",
        "print(\"and MTpts is now:\")\n",
        "print(MTpts)\n",
        "\n",
        "print(\"Is our modified MTM singular?\")\n",
        "is_singular(MTM)"
      ],
      "execution_count": 7,
      "outputs": [
        {
          "output_type": "stream",
          "text": [
            "MTM is now: \n",
            "[[ 3 -1 -1 -1]\n",
            " [-1  2 -1  0]\n",
            " [-1 -1  3 -1]\n",
            " [ 1  1  1  1]]\n",
            "and MTpts is now:\n",
            "[[ -5]\n",
            " [ 37]\n",
            " [-63]\n",
            " [  1]]\n",
            "Is our modified MTM singular?\n"
          ],
          "name": "stdout"
        },
        {
          "output_type": "execute_result",
          "data": {
            "text/plain": [
              "False"
            ]
          },
          "metadata": {
            "tags": []
          },
          "execution_count": 7
        }
      ]
    },
    {
      "cell_type": "code",
      "metadata": {
        "id": "48WK4ZH7WRxH",
        "colab": {
          "base_uri": "https://localhost:8080/"
        },
        "outputId": "c5d9681a-c985-4017-a4c1-a786e5a05395"
      },
      "source": [
        "#Find our solution using the inverse of MTM:\n",
        "\n",
        "#First, find the inverse of MTM:\n",
        "MTMI = np.linalg.inv(MTM)\n",
        "\n",
        "print(\"The inverse of MTM is:\")\n",
        "print(MTMI)\n",
        "\n",
        "#Now, use the inverse of MTM to solve for the rankings:\n",
        "\n",
        "print(\"\\n\")\n",
        "print(\"The solution are rankings:\")\n",
        "MTMI * MTpts"
      ],
      "execution_count": 8,
      "outputs": [
        {
          "output_type": "stream",
          "text": [
            "The inverse of MTM is:\n",
            "[[ 2.50000000e-01  1.85037171e-17  1.85037171e-17  2.50000000e-01]\n",
            " [ 1.25000000e-01  5.00000000e-01  1.25000000e-01  2.50000000e-01]\n",
            " [-1.38777878e-17 -2.77555756e-17  2.50000000e-01  2.50000000e-01]\n",
            " [-3.75000000e-01 -5.00000000e-01 -3.75000000e-01  2.50000000e-01]]\n",
            "\n",
            "\n",
            "The solution are rankings:\n"
          ],
          "name": "stdout"
        },
        {
          "output_type": "execute_result",
          "data": {
            "text/plain": [
              "matrix([[ -1.  ],\n",
              "        [ 10.25],\n",
              "        [-15.5 ],\n",
              "        [  7.25]])"
            ]
          },
          "metadata": {
            "tags": []
          },
          "execution_count": 8
        }
      ]
    },
    {
      "cell_type": "markdown",
      "metadata": {
        "id": "YOTdLT4-R-1h"
      },
      "source": [
        "#  Game Data  - Fall Sports\n",
        "\n",
        "Find the game data for the four teams in the NFC North and NFC South.\n",
        "\n",
        "The teams are:\n",
        "\n",
        "* **NFC North:**  Green Bay Packers, Chicago Bears, Detroit Lions, Minnesota Vikings\n",
        "* **NFC South:**  Atlanta Falcons, Carolina Panthers, New Orleans Saints, Tampa Bay Buccaneers\n",
        "\n",
        "\n",
        "It may be helpful to do a google search to find the data.\n",
        "\n",
        "Be sure to create your matrix on the handout, then enter the data for the system below.\n",
        "\n",
        "# Game Data - Spring Sports\n",
        "\n",
        "Find the game data for the seven teams in the Western Division for Men's Big Ten Basketball.\n",
        "\n",
        "**The teams:**  Wisconsin, Minnesota, Iowa, Illinois, Nebraska, Purdue, and Northewstern.\n",
        "\n",
        "I've provided **most** of the data, but you have to do a Google search to find the scores for the last two teams.\n",
        "\n",
        "Be sure to create your matrix on the handout, then enter the data for the system below.\n"
      ]
    },
    {
      "cell_type": "code",
      "metadata": {
        "id": "RrMkbXIC5v_X",
        "colab": {
          "base_uri": "https://localhost:8080/"
        },
        "outputId": "b72b4ec1-51f4-4c47-cc86-999057768f22"
      },
      "source": [
        "# create the matrix:\n",
        "#M = np.matrix([[1, -1, 0, 0],\n",
        "#               [1, 0, -1, 0],\n",
        "#               [0, 1, -1, 0],\n",
        "#               [0, 0, -1, 1],\n",
        "#               [-1, 0, 0, 1]])\n",
        "M = np.matrix([\n",
        "[ 1, 0, 0, 0, -1, 0, 0],\n",
        "[ 1, -1, 0, 0, 0, 0, 0],\n",
        "[ 1, 0, 0, 0, 0, 0, -1],\n",
        "[ -1, 0, 0, 1, 0, 0, 0],\n",
        "[ 1, 0, 0, 0, -1, 0, 0],\n",
        "[ -1, 0, 1, 0, 0, 0, 0],\n",
        "[ 1, 0, 0, 0, 0, 0, -1],\n",
        "[ -1, 0, 0, 1, 0, 0, 0],\n",
        "[ -1, 0, 0, 0, 0, 1, 0],\n",
        "[ -1, 0, 1, 0, 0, 0, 0],\n",
        "[ 0, -1, 0, 1, 0, 0, 0],\n",
        "[ 0, 1, -1, 0, 0, 0, 0],\n",
        "[ 0, -1, 1, 0, 0, 0, 0],\n",
        "[ 0, -1, 0, 0, 0, 1, 0],\n",
        "[ 0, 1, 0, 0, -1, 0, 0],\n",
        "[ 0, 1, 0, 0, 0, -1, 0],\n",
        "[ 0, -1, 0, 1, 0, 0, 0], \n",
        "[ 0, -1, 0, 0, 0, 0, 1],\n",
        "[ 0, -1, 0, 0, 1, 0, 0],\n",
        "[ 0, 0, 1, 0, 0, -1, 0],\n",
        "[ 0, 0, 1, 0, 0, 0, -1],\n",
        "[ 0, 0, 1, 0, 0, 0, -1],\n",
        "[ 0, 0, -1, 1, 0, 0, 0],\n",
        "[ 0, 0, 1, 0, -1, 0, 0],\n",
        "[ 0, 0, 0, 1, 0, -1, 0],\n",
        "[ 0, 0, 0, 1, 0, 0, -1],\n",
        "[ 0, 0, 0, 1, -1, 0, 0],\n",
        "[ 0, 0, 0, 1, 0, 0, -1],\n",
        "[ 0, 0, 0, 1, -1, 0, 0],\n",
        "[ 0, 0, 0, 0, -1, 1, 0],\n",
        "[ 0, 0, 0, 0, -1, 0, 1],\n",
        "[ 0, 0, 0, 0, 0, 1, -1]])\n",
        "\n",
        "\n",
        "\n",
        "# create the vector for the right hand side:\n",
        "#pts = np.matrix([[1], [14], [38], [11], [20]])\n",
        "pts = np.matrix([\n",
        "[14], \n",
        "[12], \n",
        "[16], \n",
        "[15], \n",
        "[13], \n",
        "[15], \n",
        "[17], \n",
        "[5], \n",
        "[4], \n",
        "[4], \n",
        "[27], \n",
        "[7], \n",
        "[15], \n",
        "[19], \n",
        "[18], \n",
        "[3], \n",
        "[29], \n",
        "[8], \n",
        "[4], \n",
        "[15], \n",
        "[15], \n",
        "[23], \n",
        "[5], \n",
        "[38], \n",
        "[8], \n",
        "[25], \n",
        "[5], \n",
        "[7], \n",
        "[16], \n",
        "[17], \n",
        "[1], \n",
        "[5]\n",
        "])\n",
        " \n",
        "#Make sure the system looks appropriate:\n",
        "print(np.c_[M,pts])"
      ],
      "execution_count": 9,
      "outputs": [
        {
          "output_type": "stream",
          "text": [
            "[[ 1  0  0  0 -1  0  0 14]\n",
            " [ 1 -1  0  0  0  0  0 12]\n",
            " [ 1  0  0  0  0  0 -1 16]\n",
            " [-1  0  0  1  0  0  0 15]\n",
            " [ 1  0  0  0 -1  0  0 13]\n",
            " [-1  0  1  0  0  0  0 15]\n",
            " [ 1  0  0  0  0  0 -1 17]\n",
            " [-1  0  0  1  0  0  0  5]\n",
            " [-1  0  0  0  0  1  0  4]\n",
            " [-1  0  1  0  0  0  0  4]\n",
            " [ 0 -1  0  1  0  0  0 27]\n",
            " [ 0  1 -1  0  0  0  0  7]\n",
            " [ 0 -1  1  0  0  0  0 15]\n",
            " [ 0 -1  0  0  0  1  0 19]\n",
            " [ 0  1  0  0 -1  0  0 18]\n",
            " [ 0  1  0  0  0 -1  0  3]\n",
            " [ 0 -1  0  1  0  0  0 29]\n",
            " [ 0 -1  0  0  0  0  1  8]\n",
            " [ 0 -1  0  0  1  0  0  4]\n",
            " [ 0  0  1  0  0 -1  0 15]\n",
            " [ 0  0  1  0  0  0 -1 15]\n",
            " [ 0  0  1  0  0  0 -1 23]\n",
            " [ 0  0 -1  1  0  0  0  5]\n",
            " [ 0  0  1  0 -1  0  0 38]\n",
            " [ 0  0  0  1  0 -1  0  8]\n",
            " [ 0  0  0  1  0  0 -1 25]\n",
            " [ 0  0  0  1 -1  0  0  5]\n",
            " [ 0  0  0  1  0  0 -1  7]\n",
            " [ 0  0  0  1 -1  0  0 16]\n",
            " [ 0  0  0  0 -1  1  0 17]\n",
            " [ 0  0  0  0 -1  0  1  1]\n",
            " [ 0  0  0  0  0  1 -1  5]]\n"
          ],
          "name": "stdout"
        }
      ]
    },
    {
      "cell_type": "code",
      "metadata": {
        "id": "TLLB3Ebe587M",
        "colab": {
          "base_uri": "https://localhost:8080/"
        },
        "outputId": "b926136c-4120-4ee7-e43d-43bd788b05fc"
      },
      "source": [
        "# Generate the transpose of M:\n",
        "MT = M.transpose()\n",
        "\n",
        "print(\"The Transpose of M is:\")\n",
        "print(MT)\n",
        "\n",
        "# and find MT*M and MT*pts:\n",
        "print(\"\\n\")\n",
        "print(\"MT * M is: \")\n",
        "MTM = MT * M\n",
        "print(MTM)\n",
        "\n",
        "print(\"\\n\")\n",
        "print(\"MT * pts is:\")\n",
        "MTpts = MT * pts\n",
        "print(MTpts)\n"
      ],
      "execution_count": 10,
      "outputs": [
        {
          "output_type": "stream",
          "text": [
            "The Transpose of M is:\n",
            "[[ 1  1  1 -1  1 -1  1 -1 -1 -1  0  0  0  0  0  0  0  0  0  0  0  0  0  0\n",
            "   0  0  0  0  0  0  0  0]\n",
            " [ 0 -1  0  0  0  0  0  0  0  0 -1  1 -1 -1  1  1 -1 -1 -1  0  0  0  0  0\n",
            "   0  0  0  0  0  0  0  0]\n",
            " [ 0  0  0  0  0  1  0  0  0  1  0 -1  1  0  0  0  0  0  0  1  1  1 -1  1\n",
            "   0  0  0  0  0  0  0  0]\n",
            " [ 0  0  0  1  0  0  0  1  0  0  1  0  0  0  0  0  1  0  0  0  0  0  1  0\n",
            "   1  1  1  1  1  0  0  0]\n",
            " [-1  0  0  0 -1  0  0  0  0  0  0  0  0  0 -1  0  0  0  1  0  0  0  0 -1\n",
            "   0  0 -1  0 -1 -1 -1  0]\n",
            " [ 0  0  0  0  0  0  0  0  1  0  0  0  0  1  0 -1  0  0  0 -1  0  0  0  0\n",
            "  -1  0  0  0  0  1  0  1]\n",
            " [ 0  0 -1  0  0  0 -1  0  0  0  0  0  0  0  0  0  0  1  0  0 -1 -1  0  0\n",
            "   0 -1  0 -1  0  0  1 -1]]\n",
            "\n",
            "\n",
            "MT * M is: \n",
            "[[10 -1 -2 -2 -2 -1 -2]\n",
            " [-1 10 -2 -2 -2 -2 -1]\n",
            " [-2 -2  9 -1 -1 -1 -2]\n",
            " [-2 -2 -1 10 -2 -1 -2]\n",
            " [-2 -2 -1 -2  9 -1 -1]\n",
            " [-1 -2 -1 -1 -1  7 -1]\n",
            " [-2 -1 -2 -2 -1 -1  9]]\n",
            "\n",
            "\n",
            "MT * pts is:\n",
            "[[  29]\n",
            " [ -86]\n",
            " [ 113]\n",
            " [ 142]\n",
            " [-118]\n",
            " [  19]\n",
            " [ -99]]\n"
          ],
          "name": "stdout"
        }
      ]
    },
    {
      "cell_type": "code",
      "metadata": {
        "id": "VXqKSDj06BVa",
        "colab": {
          "base_uri": "https://localhost:8080/"
        },
        "outputId": "a632a200-49c1-415c-81f0-ce16ee52e4c4"
      },
      "source": [
        "#  Check if MTM is singular\n",
        "is_singular(MT*M)"
      ],
      "execution_count": 11,
      "outputs": [
        {
          "output_type": "execute_result",
          "data": {
            "text/plain": [
              "True"
            ]
          },
          "metadata": {
            "tags": []
          },
          "execution_count": 11
        }
      ]
    },
    {
      "cell_type": "code",
      "metadata": {
        "id": "5E2eXRT76MQh",
        "colab": {
          "base_uri": "https://localhost:8080/"
        },
        "outputId": "e750c289-def2-406e-9a15-3421ad08bc9d"
      },
      "source": [
        "# Careful - you might not need to do this!  \n",
        "# Be sure to check whether MTM is singular on the previous line.\n",
        "\n",
        "# If MTM is singular, then adjust one row of MTM and MT pts to be just 1's:\n",
        "\n",
        "#MTM[3] is the entire 4th row of MTM, \n",
        "#so MTM[3] = 1 will put 1's in MTM's 4th row.\n",
        "\n",
        "MTM[6] = 1\n",
        "MTpts[6] = 1\n",
        "\n",
        "print(\"MTM is now: \")\n",
        "print(MTM)\n",
        "\n",
        "print(\"and MTpts is now:\")\n",
        "print(MTpts)\n",
        "\n",
        "print(\"Is our modified MTM singular?\")\n",
        "is_singular(MTM)"
      ],
      "execution_count": 12,
      "outputs": [
        {
          "output_type": "stream",
          "text": [
            "MTM is now: \n",
            "[[10 -1 -2 -2 -2 -1 -2]\n",
            " [-1 10 -2 -2 -2 -2 -1]\n",
            " [-2 -2  9 -1 -1 -1 -2]\n",
            " [-2 -2 -1 10 -2 -1 -2]\n",
            " [-2 -2 -1 -2  9 -1 -1]\n",
            " [-1 -2 -1 -1 -1  7 -1]\n",
            " [ 1  1  1  1  1  1  1]]\n",
            "and MTpts is now:\n",
            "[[  29]\n",
            " [ -86]\n",
            " [ 113]\n",
            " [ 142]\n",
            " [-118]\n",
            " [  19]\n",
            " [   1]]\n",
            "Is our modified MTM singular?\n"
          ],
          "name": "stdout"
        },
        {
          "output_type": "execute_result",
          "data": {
            "text/plain": [
              "False"
            ]
          },
          "metadata": {
            "tags": []
          },
          "execution_count": 12
        }
      ]
    },
    {
      "cell_type": "code",
      "metadata": {
        "id": "UkDKmNba6YHi",
        "colab": {
          "base_uri": "https://localhost:8080/"
        },
        "outputId": "5bef7b5b-5cbd-49bb-f97b-eff7657437d4"
      },
      "source": [
        "#Find our solution using the inverse of MTM:\n",
        "\n",
        "#First, find the inverse of MTM:\n",
        "MTMI = np.linalg.inv(MTM)\n",
        "\n",
        "print(\"The inverse of MTM is:\")\n",
        "print(MTMI)\n",
        "\n",
        "#Now, use the inverse of MTM to solve for the rankings:\n",
        "\n",
        "print(\"\\n\")\n",
        "print(\"The solution are rankings:\")\n",
        "MTMI * MTpts"
      ],
      "execution_count": 13,
      "outputs": [
        {
          "output_type": "stream",
          "text": [
            "The inverse of MTM is:\n",
            "[[ 8.32670976e-02 -8.67025223e-03 -7.21969055e-04 -7.28592624e-04\n",
            "  -7.94828317e-04 -1.13108485e-02  1.42857143e-01]\n",
            " [ 7.06514060e-04  9.24826904e-02  7.70100325e-03  7.77165466e-03\n",
            "   8.47816872e-03  9.53793981e-03  1.42857143e-01]\n",
            " [-7.77165466e-04 -1.73095945e-03  9.15288964e-02 -8.54882012e-03\n",
            "  -9.32598559e-03 -1.04917338e-02  1.42857143e-01]\n",
            " [ 5.74042673e-05 -8.19114738e-04 -7.70762682e-03  8.39647803e-02\n",
            "   6.88851208e-04 -9.64170906e-03  1.42857143e-01]\n",
            " [ 8.40310160e-03  8.29933234e-03 -7.28592624e-05  9.10078423e-03\n",
            "   1.00837219e-01 -1.14146178e-03  1.42857143e-01]\n",
            " [ 8.83142575e-05  1.15603363e-02  9.62625406e-04  9.71456832e-04\n",
            "   1.05977109e-03  1.26192242e-01  1.42857143e-01]\n",
            " [-9.17452664e-02 -1.01122033e-01 -9.16900699e-02 -9.25312632e-02\n",
            "  -1.00943196e-01 -1.03144429e-01  1.42857143e-01]]\n",
            "\n",
            "\n",
            "The solution are rankings:\n"
          ],
          "name": "stdout"
        },
        {
          "output_type": "execute_result",
          "data": {
            "text/plain": [
              "matrix([[  2.99708563],\n",
              "        [ -6.63558005],\n",
              "        [ 10.29913805],\n",
              "        [ 11.00252579],\n",
              "        [-10.96359686],\n",
              "        [  1.67055249],\n",
              "        [ -7.37012505]])"
            ]
          },
          "metadata": {
            "tags": []
          },
          "execution_count": 13
        }
      ]
    },
    {
      "cell_type": "code",
      "metadata": {
        "id": "6awc91VdiHrH"
      },
      "source": [
        ""
      ],
      "execution_count": null,
      "outputs": []
    }
  ]
}